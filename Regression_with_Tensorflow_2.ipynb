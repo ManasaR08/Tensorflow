{
  "nbformat": 4,
  "nbformat_minor": 0,
  "metadata": {
    "colab": {
      "name": "Regression_with_Tensorflow_2.ipynb",
      "provenance": [],
      "authorship_tag": "ABX9TyNV1Ft9b8x6aWAWNy8zuYRK",
      "include_colab_link": true
    },
    "kernelspec": {
      "name": "python3",
      "display_name": "Python 3"
    },
    "language_info": {
      "name": "python"
    },
    "accelerator": "GPU"
  },
  "cells": [
    {
      "cell_type": "markdown",
      "metadata": {
        "id": "view-in-github",
        "colab_type": "text"
      },
      "source": [
        "<a href=\"https://colab.research.google.com/github/ManasaR08/Tensorflow/blob/main/Regression_with_Tensorflow_2.ipynb\" target=\"_parent\"><img src=\"https://colab.research.google.com/assets/colab-badge.svg\" alt=\"Open In Colab\"/></a>"
      ]
    },
    {
      "cell_type": "code",
      "metadata": {
        "colab": {
          "base_uri": "https://localhost:8080/"
        },
        "id": "MvBkEcA29-4_",
        "outputId": "291749bc-ba4a-4d78-8b6c-e64f7c55182d"
      },
      "source": [
        "import tensorflow as tf\n",
        "print(tf.__version__)"
      ],
      "execution_count": 1,
      "outputs": [
        {
          "output_type": "stream",
          "text": [
            "2.5.0\n"
          ],
          "name": "stdout"
        }
      ]
    },
    {
      "cell_type": "markdown",
      "metadata": {
        "id": "uJWi4udoJtds"
      },
      "source": [
        "# Create Data"
      ]
    },
    {
      "cell_type": "code",
      "metadata": {
        "id": "kMMwMdQBJerh"
      },
      "source": [
        "import numpy as np\n",
        "import matplotlib.pyplot as plt\n",
        "\n",
        "# features\n",
        "X = np.array([-7.0, -4.0, -1.0, 2.0, 5.0, 8.0, 11.0, 14.0])\n",
        "\n",
        "# labels\n",
        "y = np.array([3.0, 6.0, 9.0, 12.0, 15.0, 18.0, 21.0, 24.0])\n"
      ],
      "execution_count": 2,
      "outputs": []
    },
    {
      "cell_type": "code",
      "metadata": {
        "colab": {
          "base_uri": "https://localhost:8080/",
          "height": 287
        },
        "id": "AObGNi7GKZkw",
        "outputId": "a7e79284-4a9b-4185-c8d1-b88ddbe057e7"
      },
      "source": [
        "plt.scatter(X,y)"
      ],
      "execution_count": 3,
      "outputs": [
        {
          "output_type": "execute_result",
          "data": {
            "text/plain": [
              "<matplotlib.collections.PathCollection at 0x7f0b4ba0bd90>"
            ]
          },
          "metadata": {
            "tags": []
          },
          "execution_count": 3
        },
        {
          "output_type": "display_data",
          "data": {
            "image/png": "[encoded data removed]",
            "text/plain": [
              "<Figure size 432x288 with 1 Axes>"
            ]
          },
          "metadata": {
            "tags": [],
            "needs_background": "light"
          }
        }
      ]
    },
    {
      "cell_type": "markdown",
      "metadata": {
        "id": "pU2unbdwK0Ag"
      },
      "source": [
        "# Input and Output shapes"
      ]
    },
    {
      "cell_type": "code",
      "metadata": {
        "colab": {
          "base_uri": "https://localhost:8080/"
        },
        "id": "muccFzS7Kb2i",
        "outputId": "33a30e8b-a599-477a-b0c3-1f7d05fbcaa0"
      },
      "source": [
        "house_info = tf.constant([\"bedroom\", \"bathroom\", \"garage\"])\n",
        "house_price = tf.constant([939700])\n",
        "house_info, house_price"
      ],
      "execution_count": 4,
      "outputs": [
        {
          "output_type": "execute_result",
          "data": {
            "text/plain": [
              "(<tf.Tensor: shape=(3,), dtype=string, numpy=array([b'bedroom', b'bathroom', b'garage'], dtype=object)>,\n",
              " <tf.Tensor: shape=(1,), dtype=int32, numpy=array([939700], dtype=int32)>)"
            ]
          },
          "metadata": {
            "tags": []
          },
          "execution_count": 4
        }
      ]
    },
    {
      "cell_type": "code",
      "metadata": {
        "id": "qGx0wWTAMV8F"
      },
      "source": [
        "X = tf.constant(X)\n",
        "y = tf.constant(y)"
      ],
      "execution_count": 5,
      "outputs": []
    },
    {
      "cell_type": "code",
      "metadata": {
        "id": "133aWYbQMbcc"
      },
      "source": [
        "input_shape = X[0].shape\n",
        "output_shape = y[0].shape"
      ],
      "execution_count": 6,
      "outputs": []
    },
    {
      "cell_type": "code",
      "metadata": {
        "colab": {
          "base_uri": "https://localhost:8080/"
        },
        "id": "Y28T2CoWMdlD",
        "outputId": "7092cbbd-f181-42e2-fa6e-052caac9a2b6"
      },
      "source": [
        "input_shape, output_shape"
      ],
      "execution_count": 7,
      "outputs": [
        {
          "output_type": "execute_result",
          "data": {
            "text/plain": [
              "(TensorShape([]), TensorShape([]))"
            ]
          },
          "metadata": {
            "tags": []
          },
          "execution_count": 7
        }
      ]
    },
    {
      "cell_type": "markdown",
      "metadata": {
        "id": "-NUKvFdtM33-"
      },
      "source": [
        "# Modelling with Tensorflow\n",
        "\n",
        "* **Creating the model**: Define the input, output and hidden layers of a deep learning model\n",
        "* **Compiling the model**: Define the loss function, optimizer and evaluation metrics\n",
        "* **Fitting the model**: Letting the model try to find patterns between X and Y"
      ]
    },
    {
      "cell_type": "code",
      "metadata": {
        "colab": {
          "base_uri": "https://localhost:8080/"
        },
        "id": "RdpOMEeOMsfC",
        "outputId": "4742b1d3-32d5-4fc9-f627-64fd5651d76e"
      },
      "source": [
        "tf.random.set_seed(42)\n",
        "\n",
        "#Create\n",
        "model = tf.keras.Sequential([\n",
        "                             tf.keras.layers.Dense(1) #Since we have one input for one output\n",
        "])\n",
        "\n",
        "#Complie\n",
        "model.compile(loss = tf.keras.losses.mae,\n",
        "              optimizer = tf.keras.optimizers.SGD(),\n",
        "              metrics = [\"mae\"])\n",
        "\n",
        "#Fit\n",
        "model.fit(X, y, epochs = 5)"
      ],
      "execution_count": 8,
      "outputs": [
        {
          "output_type": "stream",
          "text": [
            "Epoch 1/5\n",
            "1/1 [==============================] - 1s 563ms/step - loss: 11.5048 - mae: 11.5048\n",
            "Epoch 2/5\n",
            "1/1 [==============================] - 0s 7ms/step - loss: 11.3723 - mae: 11.3723\n",
            "Epoch 3/5\n",
            "1/1 [==============================] - 0s 7ms/step - loss: 11.2398 - mae: 11.2398\n",
            "Epoch 4/5\n",
            "1/1 [==============================] - 0s 8ms/step - loss: 11.1073 - mae: 11.1073\n",
            "Epoch 5/5\n",
            "1/1 [==============================] - 0s 8ms/step - loss: 10.9748 - mae: 10.9748\n"
          ],
          "name": "stdout"
        },
        {
          "output_type": "execute_result",
          "data": {
            "text/plain": [
              "<tensorflow.python.keras.callbacks.History at 0x7f0b404290d0>"
            ]
          },
          "metadata": {
            "tags": []
          },
          "execution_count": 8
        }
      ]
    },
    {
      "cell_type": "markdown",
      "metadata": {
        "id": "dZi-EW1_Q7Ya"
      },
      "source": [
        "# Prediction"
      ]
    },
    {
      "cell_type": "code",
      "metadata": {
        "id": "lVKHf0coQK4W"
      },
      "source": [
        "y_pred = model.predict([17.0])"
      ],
      "execution_count": 9,
      "outputs": []
    },
    {
      "cell_type": "code",
      "metadata": {
        "colab": {
          "base_uri": "https://localhost:8080/"
        },
        "id": "1_moI-7qRAOX",
        "outputId": "c7dd6868-b3a3-4e4c-8ccf-0d1d21c6e289"
      },
      "source": [
        "y_pred"
      ],
      "execution_count": 10,
      "outputs": [
        {
          "output_type": "execute_result",
          "data": {
            "text/plain": [
              "array([[12.716021]], dtype=float32)"
            ]
          },
          "metadata": {
            "tags": []
          },
          "execution_count": 10
        }
      ]
    },
    {
      "cell_type": "markdown",
      "metadata": {
        "id": "WCnO6v7TYBh4"
      },
      "source": [
        "# Improving a model\n",
        "\n",
        "* Add more layers, increase the number of hidden units, change the activation function\n",
        "\n",
        "* Change the optimization function or learning rate\n",
        "\n",
        "* Increase the number of epochs or increase the number of data points"
      ]
    },
    {
      "cell_type": "code",
      "metadata": {
        "id": "H1giw4IIRPCX",
        "colab": {
          "base_uri": "https://localhost:8080/"
        },
        "outputId": "533f6f8c-f472-4c66-9aa3-a03cd8cde5c5"
      },
      "source": [
        "model_epoch = tf.keras.Sequential([\n",
        "                                      tf.keras.layers.Dense(1)\n",
        "])\n",
        "\n",
        "model_epoch.compile(optimizer=\"sgd\",\n",
        "              loss = 'mae',\n",
        "              metrics = ['mae'])\n",
        "\n",
        "model_epoch.fit(X, y, epochs = 100) #increased the number of epochs"
      ],
      "execution_count": 11,
      "outputs": [
        {
          "output_type": "stream",
          "text": [
            "Epoch 1/100\n",
            "1/1 [==============================] - 0s 303ms/step - loss: 11.2219 - mae: 11.2219\n",
            "Epoch 2/100\n",
            "1/1 [==============================] - 0s 5ms/step - loss: 11.0894 - mae: 11.0894\n",
            "Epoch 3/100\n",
            "1/1 [==============================] - 0s 5ms/step - loss: 10.9569 - mae: 10.9569\n",
            "Epoch 4/100\n",
            "1/1 [==============================] - 0s 5ms/step - loss: 10.8244 - mae: 10.8244\n",
            "Epoch 5/100\n",
            "1/1 [==============================] - 0s 7ms/step - loss: 10.6919 - mae: 10.6919\n",
            "Epoch 6/100\n",
            "1/1 [==============================] - 0s 15ms/step - loss: 10.5594 - mae: 10.5594\n",
            "Epoch 7/100\n",
            "1/1 [==============================] - 0s 5ms/step - loss: 10.4269 - mae: 10.4269\n",
            "Epoch 8/100\n",
            "1/1 [==============================] - 0s 6ms/step - loss: 10.2944 - mae: 10.2944\n",
            "Epoch 9/100\n",
            "1/1 [==============================] - 0s 8ms/step - loss: 10.1619 - mae: 10.1619\n",
            "Epoch 10/100\n",
            "1/1 [==============================] - 0s 7ms/step - loss: 10.0294 - mae: 10.0294\n",
            "Epoch 11/100\n",
            "1/1 [==============================] - 0s 7ms/step - loss: 9.8969 - mae: 9.8969\n",
            "Epoch 12/100\n",
            "1/1 [==============================] - 0s 4ms/step - loss: 9.7644 - mae: 9.7644\n",
            "Epoch 13/100\n",
            "1/1 [==============================] - 0s 5ms/step - loss: 9.6319 - mae: 9.6319\n",
            "Epoch 14/100\n",
            "1/1 [==============================] - 0s 4ms/step - loss: 9.4994 - mae: 9.4994\n",
            "Epoch 15/100\n",
            "1/1 [==============================] - 0s 5ms/step - loss: 9.3669 - mae: 9.3669\n",
            "Epoch 16/100\n",
            "1/1 [==============================] - 0s 6ms/step - loss: 9.2344 - mae: 9.2344\n",
            "Epoch 17/100\n",
            "1/1 [==============================] - 0s 7ms/step - loss: 9.1019 - mae: 9.1019\n",
            "Epoch 18/100\n",
            "1/1 [==============================] - 0s 7ms/step - loss: 8.9694 - mae: 8.9694\n",
            "Epoch 19/100\n",
            "1/1 [==============================] - 0s 6ms/step - loss: 8.8369 - mae: 8.8369\n",
            "Epoch 20/100\n",
            "1/1 [==============================] - 0s 5ms/step - loss: 8.7044 - mae: 8.7044\n",
            "Epoch 21/100\n",
            "1/1 [==============================] - 0s 5ms/step - loss: 8.5719 - mae: 8.5719\n",
            "Epoch 22/100\n",
            "1/1 [==============================] - 0s 5ms/step - loss: 8.4394 - mae: 8.4394\n",
            "Epoch 23/100\n",
            "1/1 [==============================] - 0s 6ms/step - loss: 8.3069 - mae: 8.3069\n",
            "Epoch 24/100\n",
            "1/1 [==============================] - 0s 5ms/step - loss: 8.1744 - mae: 8.1744\n",
            "Epoch 25/100\n",
            "1/1 [==============================] - 0s 5ms/step - loss: 8.0419 - mae: 8.0419\n",
            "Epoch 26/100\n",
            "1/1 [==============================] - 0s 5ms/step - loss: 7.9094 - mae: 7.9094\n",
            "Epoch 27/100\n",
            "1/1 [==============================] - 0s 5ms/step - loss: 7.7769 - mae: 7.7769\n",
            "Epoch 28/100\n",
            "1/1 [==============================] - 0s 6ms/step - loss: 7.6444 - mae: 7.6444\n",
            "Epoch 29/100\n",
            "1/1 [==============================] - 0s 6ms/step - loss: 7.5119 - mae: 7.5119\n",
            "Epoch 30/100\n",
            "1/1 [==============================] - 0s 6ms/step - loss: 7.3794 - mae: 7.3794\n",
            "Epoch 31/100\n",
            "1/1 [==============================] - 0s 6ms/step - loss: 7.2750 - mae: 7.2750\n",
            "Epoch 32/100\n",
            "1/1 [==============================] - 0s 6ms/step - loss: 7.2694 - mae: 7.2694\n",
            "Epoch 33/100\n",
            "1/1 [==============================] - 0s 6ms/step - loss: 7.2638 - mae: 7.2638\n",
            "Epoch 34/100\n",
            "1/1 [==============================] - 0s 9ms/step - loss: 7.2581 - mae: 7.2581\n",
            "Epoch 35/100\n",
            "1/1 [==============================] - 0s 5ms/step - loss: 7.2525 - mae: 7.2525\n",
            "Epoch 36/100\n",
            "1/1 [==============================] - 0s 13ms/step - loss: 7.2469 - mae: 7.2469\n",
            "Epoch 37/100\n",
            "1/1 [==============================] - 0s 11ms/step - loss: 7.2413 - mae: 7.2413\n",
            "Epoch 38/100\n",
            "1/1 [==============================] - 0s 6ms/step - loss: 7.2356 - mae: 7.2356\n",
            "Epoch 39/100\n",
            "1/1 [==============================] - 0s 7ms/step - loss: 7.2300 - mae: 7.2300\n",
            "Epoch 40/100\n",
            "1/1 [==============================] - 0s 5ms/step - loss: 7.2244 - mae: 7.2244\n",
            "Epoch 41/100\n",
            "1/1 [==============================] - 0s 7ms/step - loss: 7.2188 - mae: 7.2188\n",
            "Epoch 42/100\n",
            "1/1 [==============================] - 0s 9ms/step - loss: 7.2131 - mae: 7.2131\n",
            "Epoch 43/100\n",
            "1/1 [==============================] - 0s 8ms/step - loss: 7.2075 - mae: 7.2075\n",
            "Epoch 44/100\n",
            "1/1 [==============================] - 0s 5ms/step - loss: 7.2019 - mae: 7.2019\n",
            "Epoch 45/100\n",
            "1/1 [==============================] - 0s 6ms/step - loss: 7.1962 - mae: 7.1962\n",
            "Epoch 46/100\n",
            "1/1 [==============================] - 0s 6ms/step - loss: 7.1906 - mae: 7.1906\n",
            "Epoch 47/100\n",
            "1/1 [==============================] - 0s 6ms/step - loss: 7.1850 - mae: 7.1850\n",
            "Epoch 48/100\n",
            "1/1 [==============================] - 0s 7ms/step - loss: 7.1794 - mae: 7.1794\n",
            "Epoch 49/100\n",
            "1/1 [==============================] - 0s 7ms/step - loss: 7.1737 - mae: 7.1737\n",
            "Epoch 50/100\n",
            "1/1 [==============================] - 0s 5ms/step - loss: 7.1681 - mae: 7.1681\n",
            "Epoch 51/100\n",
            "1/1 [==============================] - 0s 6ms/step - loss: 7.1625 - mae: 7.1625\n",
            "Epoch 52/100\n",
            "1/1 [==============================] - 0s 8ms/step - loss: 7.1569 - mae: 7.1569\n",
            "Epoch 53/100\n",
            "1/1 [==============================] - 0s 6ms/step - loss: 7.1512 - mae: 7.1512\n",
            "Epoch 54/100\n",
            "1/1 [==============================] - 0s 6ms/step - loss: 7.1456 - mae: 7.1456\n",
            "Epoch 55/100\n",
            "1/1 [==============================] - 0s 6ms/step - loss: 7.1400 - mae: 7.1400\n",
            "Epoch 56/100\n",
            "1/1 [==============================] - 0s 6ms/step - loss: 7.1344 - mae: 7.1344\n",
            "Epoch 57/100\n",
            "1/1 [==============================] - 0s 5ms/step - loss: 7.1287 - mae: 7.1287\n",
            "Epoch 58/100\n",
            "1/1 [==============================] - 0s 6ms/step - loss: 7.1231 - mae: 7.1231\n",
            "Epoch 59/100\n",
            "1/1 [==============================] - 0s 5ms/step - loss: 7.1175 - mae: 7.1175\n",
            "Epoch 60/100\n",
            "1/1 [==============================] - 0s 6ms/step - loss: 7.1119 - mae: 7.1119\n",
            "Epoch 61/100\n",
            "1/1 [==============================] - 0s 7ms/step - loss: 7.1062 - mae: 7.1062\n",
            "Epoch 62/100\n",
            "1/1 [==============================] - 0s 6ms/step - loss: 7.1006 - mae: 7.1006\n",
            "Epoch 63/100\n",
            "1/1 [==============================] - 0s 6ms/step - loss: 7.0950 - mae: 7.0950\n",
            "Epoch 64/100\n",
            "1/1 [==============================] - 0s 6ms/step - loss: 7.0894 - mae: 7.0894\n",
            "Epoch 65/100\n",
            "1/1 [==============================] - 0s 8ms/step - loss: 7.0838 - mae: 7.0838\n",
            "Epoch 66/100\n",
            "1/1 [==============================] - 0s 6ms/step - loss: 7.0781 - mae: 7.0781\n",
            "Epoch 67/100\n",
            "1/1 [==============================] - 0s 8ms/step - loss: 7.0725 - mae: 7.0725\n",
            "Epoch 68/100\n",
            "1/1 [==============================] - 0s 5ms/step - loss: 7.0669 - mae: 7.0669\n",
            "Epoch 69/100\n",
            "1/1 [==============================] - 0s 6ms/step - loss: 7.0613 - mae: 7.0613\n",
            "Epoch 70/100\n",
            "1/1 [==============================] - 0s 5ms/step - loss: 7.0556 - mae: 7.0556\n",
            "Epoch 71/100\n",
            "1/1 [==============================] - 0s 15ms/step - loss: 7.0500 - mae: 7.0500\n",
            "Epoch 72/100\n",
            "1/1 [==============================] - 0s 5ms/step - loss: 7.0444 - mae: 7.0444\n",
            "Epoch 73/100\n",
            "1/1 [==============================] - 0s 7ms/step - loss: 7.0388 - mae: 7.0388\n",
            "Epoch 74/100\n",
            "1/1 [==============================] - 0s 10ms/step - loss: 7.0331 - mae: 7.0331\n",
            "Epoch 75/100\n",
            "1/1 [==============================] - 0s 5ms/step - loss: 7.0275 - mae: 7.0275\n",
            "Epoch 76/100\n",
            "1/1 [==============================] - 0s 6ms/step - loss: 7.0219 - mae: 7.0219\n",
            "Epoch 77/100\n",
            "1/1 [==============================] - 0s 5ms/step - loss: 7.0163 - mae: 7.0163\n",
            "Epoch 78/100\n",
            "1/1 [==============================] - 0s 6ms/step - loss: 7.0106 - mae: 7.0106\n",
            "Epoch 79/100\n",
            "1/1 [==============================] - 0s 5ms/step - loss: 7.0050 - mae: 7.0050\n",
            "Epoch 80/100\n",
            "1/1 [==============================] - 0s 13ms/step - loss: 6.9994 - mae: 6.9994\n",
            "Epoch 81/100\n",
            "1/1 [==============================] - 0s 11ms/step - loss: 6.9938 - mae: 6.9938\n",
            "Epoch 82/100\n",
            "1/1 [==============================] - 0s 5ms/step - loss: 6.9881 - mae: 6.9881\n",
            "Epoch 83/100\n",
            "1/1 [==============================] - 0s 9ms/step - loss: 6.9825 - mae: 6.9825\n",
            "Epoch 84/100\n",
            "1/1 [==============================] - 0s 6ms/step - loss: 6.9769 - mae: 6.9769\n",
            "Epoch 85/100\n",
            "1/1 [==============================] - 0s 5ms/step - loss: 6.9713 - mae: 6.9713\n",
            "Epoch 86/100\n",
            "1/1 [==============================] - 0s 5ms/step - loss: 6.9656 - mae: 6.9656\n",
            "Epoch 87/100\n",
            "1/1 [==============================] - 0s 4ms/step - loss: 6.9600 - mae: 6.9600\n",
            "Epoch 88/100\n",
            "1/1 [==============================] - 0s 5ms/step - loss: 6.9544 - mae: 6.9544\n",
            "Epoch 89/100\n",
            "1/1 [==============================] - 0s 5ms/step - loss: 6.9488 - mae: 6.9488\n",
            "Epoch 90/100\n",
            "1/1 [==============================] - 0s 5ms/step - loss: 6.9431 - mae: 6.9431\n",
            "Epoch 91/100\n",
            "1/1 [==============================] - 0s 5ms/step - loss: 6.9375 - mae: 6.9375\n",
            "Epoch 92/100\n",
            "1/1 [==============================] - 0s 5ms/step - loss: 6.9319 - mae: 6.9319\n",
            "Epoch 93/100\n",
            "1/1 [==============================] - 0s 5ms/step - loss: 6.9262 - mae: 6.9262\n",
            "Epoch 94/100\n",
            "1/1 [==============================] - 0s 5ms/step - loss: 6.9206 - mae: 6.9206\n",
            "Epoch 95/100\n",
            "1/1 [==============================] - 0s 5ms/step - loss: 6.9150 - mae: 6.9150\n",
            "Epoch 96/100\n",
            "1/1 [==============================] - 0s 6ms/step - loss: 6.9094 - mae: 6.9094\n",
            "Epoch 97/100\n",
            "1/1 [==============================] - 0s 5ms/step - loss: 6.9038 - mae: 6.9038\n",
            "Epoch 98/100\n",
            "1/1 [==============================] - 0s 5ms/step - loss: 6.8981 - mae: 6.8981\n",
            "Epoch 99/100\n",
            "1/1 [==============================] - 0s 5ms/step - loss: 6.8925 - mae: 6.8925\n",
            "Epoch 100/100\n",
            "1/1 [==============================] - 0s 5ms/step - loss: 6.8869 - mae: 6.8869\n"
          ],
          "name": "stdout"
        },
        {
          "output_type": "execute_result",
          "data": {
            "text/plain": [
              "<tensorflow.python.keras.callbacks.History at 0x7f0b4022ead0>"
            ]
          },
          "metadata": {
            "tags": []
          },
          "execution_count": 11
        }
      ]
    },
    {
      "cell_type": "code",
      "metadata": {
        "id": "Khk7unJUaGkX"
      },
      "source": [
        "y_pred = model_epoch.predict([17.0])"
      ],
      "execution_count": 12,
      "outputs": []
    },
    {
      "cell_type": "code",
      "metadata": {
        "colab": {
          "base_uri": "https://localhost:8080/"
        },
        "id": "fbrM4OtRaSCK",
        "outputId": "6c4f9a9e-a311-4744-a5be-263378294199"
      },
      "source": [
        "y_pred"
      ],
      "execution_count": 13,
      "outputs": [
        {
          "output_type": "execute_result",
          "data": {
            "text/plain": [
              "array([[29.739855]], dtype=float32)"
            ]
          },
          "metadata": {
            "tags": []
          },
          "execution_count": 13
        }
      ]
    },
    {
      "cell_type": "code",
      "metadata": {
        "colab": {
          "base_uri": "https://localhost:8080/"
        },
        "id": "C2fXd6yVaTPZ",
        "outputId": "a7bc2935-e8ff-47a8-8aa3-b724f5b21325"
      },
      "source": [
        "model_adam = tf.keras.Sequential([\n",
        "                                      tf.keras.layers.Dense(1)\n",
        "])\n",
        "\n",
        "model_adam.compile(optimizer=\"Adam\", #changed the optimizer\n",
        "              loss = 'mae',\n",
        "              metrics = ['mae'])\n",
        "\n",
        "model_adam.fit(X, y, epochs = 100) #increased the number of epochs"
      ],
      "execution_count": 14,
      "outputs": [
        {
          "output_type": "stream",
          "text": [
            "Epoch 1/100\n",
            "1/1 [==============================] - 0s 363ms/step - loss: 10.5736 - mae: 10.5736\n",
            "Epoch 2/100\n",
            "1/1 [==============================] - 0s 8ms/step - loss: 10.5691 - mae: 10.5691\n",
            "Epoch 3/100\n",
            "1/1 [==============================] - 0s 9ms/step - loss: 10.5646 - mae: 10.5646\n",
            "Epoch 4/100\n",
            "1/1 [==============================] - 0s 7ms/step - loss: 10.5601 - mae: 10.5601\n",
            "Epoch 5/100\n",
            "1/1 [==============================] - 0s 10ms/step - loss: 10.5556 - mae: 10.5556\n",
            "Epoch 6/100\n",
            "1/1 [==============================] - 0s 8ms/step - loss: 10.5511 - mae: 10.5511\n",
            "Epoch 7/100\n",
            "1/1 [==============================] - 0s 6ms/step - loss: 10.5466 - mae: 10.5466\n",
            "Epoch 8/100\n",
            "1/1 [==============================] - 0s 6ms/step - loss: 10.5421 - mae: 10.5421\n",
            "Epoch 9/100\n",
            "1/1 [==============================] - 0s 4ms/step - loss: 10.5376 - mae: 10.5376\n",
            "Epoch 10/100\n",
            "1/1 [==============================] - 0s 8ms/step - loss: 10.5331 - mae: 10.5331\n",
            "Epoch 11/100\n",
            "1/1 [==============================] - 0s 11ms/step - loss: 10.5286 - mae: 10.5286\n",
            "Epoch 12/100\n",
            "1/1 [==============================] - 0s 7ms/step - loss: 10.5241 - mae: 10.5241\n",
            "Epoch 13/100\n",
            "1/1 [==============================] - 0s 5ms/step - loss: 10.5196 - mae: 10.5196\n",
            "Epoch 14/100\n",
            "1/1 [==============================] - 0s 8ms/step - loss: 10.5151 - mae: 10.5151\n",
            "Epoch 15/100\n",
            "1/1 [==============================] - 0s 7ms/step - loss: 10.5106 - mae: 10.5106\n",
            "Epoch 16/100\n",
            "1/1 [==============================] - 0s 5ms/step - loss: 10.5061 - mae: 10.5061\n",
            "Epoch 17/100\n",
            "1/1 [==============================] - 0s 7ms/step - loss: 10.5016 - mae: 10.5016\n",
            "Epoch 18/100\n",
            "1/1 [==============================] - 0s 6ms/step - loss: 10.4971 - mae: 10.4971\n",
            "Epoch 19/100\n",
            "1/1 [==============================] - 0s 6ms/step - loss: 10.4926 - mae: 10.4926\n",
            "Epoch 20/100\n",
            "1/1 [==============================] - 0s 5ms/step - loss: 10.4881 - mae: 10.4881\n",
            "Epoch 21/100\n",
            "1/1 [==============================] - 0s 6ms/step - loss: 10.4836 - mae: 10.4836\n",
            "Epoch 22/100\n",
            "1/1 [==============================] - 0s 8ms/step - loss: 10.4791 - mae: 10.4791\n",
            "Epoch 23/100\n",
            "1/1 [==============================] - 0s 9ms/step - loss: 10.4746 - mae: 10.4746\n",
            "Epoch 24/100\n",
            "1/1 [==============================] - 0s 4ms/step - loss: 10.4701 - mae: 10.4701\n",
            "Epoch 25/100\n",
            "1/1 [==============================] - 0s 8ms/step - loss: 10.4656 - mae: 10.4656\n",
            "Epoch 26/100\n",
            "1/1 [==============================] - 0s 6ms/step - loss: 10.4611 - mae: 10.4611\n",
            "Epoch 27/100\n",
            "1/1 [==============================] - 0s 6ms/step - loss: 10.4566 - mae: 10.4566\n",
            "Epoch 28/100\n",
            "1/1 [==============================] - 0s 6ms/step - loss: 10.4521 - mae: 10.4521\n",
            "Epoch 29/100\n",
            "1/1 [==============================] - 0s 6ms/step - loss: 10.4476 - mae: 10.4476\n",
            "Epoch 30/100\n",
            "1/1 [==============================] - 0s 8ms/step - loss: 10.4431 - mae: 10.4431\n",
            "Epoch 31/100\n",
            "1/1 [==============================] - 0s 7ms/step - loss: 10.4386 - mae: 10.4386\n",
            "Epoch 32/100\n",
            "1/1 [==============================] - 0s 6ms/step - loss: 10.4341 - mae: 10.4341\n",
            "Epoch 33/100\n",
            "1/1 [==============================] - 0s 7ms/step - loss: 10.4296 - mae: 10.4296\n",
            "Epoch 34/100\n",
            "1/1 [==============================] - 0s 6ms/step - loss: 10.4251 - mae: 10.4251\n",
            "Epoch 35/100\n",
            "1/1 [==============================] - 0s 6ms/step - loss: 10.4206 - mae: 10.4206\n",
            "Epoch 36/100\n",
            "1/1 [==============================] - 0s 7ms/step - loss: 10.4161 - mae: 10.4161\n",
            "Epoch 37/100\n",
            "1/1 [==============================] - 0s 7ms/step - loss: 10.4116 - mae: 10.4116\n",
            "Epoch 38/100\n",
            "1/1 [==============================] - 0s 8ms/step - loss: 10.4071 - mae: 10.4071\n",
            "Epoch 39/100\n",
            "1/1 [==============================] - 0s 8ms/step - loss: 10.4026 - mae: 10.4026\n",
            "Epoch 40/100\n",
            "1/1 [==============================] - 0s 9ms/step - loss: 10.3981 - mae: 10.3981\n",
            "Epoch 41/100\n",
            "1/1 [==============================] - 0s 13ms/step - loss: 10.3936 - mae: 10.3936\n",
            "Epoch 42/100\n",
            "1/1 [==============================] - 0s 7ms/step - loss: 10.3891 - mae: 10.3891\n",
            "Epoch 43/100\n",
            "1/1 [==============================] - 0s 16ms/step - loss: 10.3846 - mae: 10.3846\n",
            "Epoch 44/100\n",
            "1/1 [==============================] - 0s 8ms/step - loss: 10.3801 - mae: 10.3801\n",
            "Epoch 45/100\n",
            "1/1 [==============================] - 0s 6ms/step - loss: 10.3756 - mae: 10.3756\n",
            "Epoch 46/100\n",
            "1/1 [==============================] - 0s 7ms/step - loss: 10.3711 - mae: 10.3711\n",
            "Epoch 47/100\n",
            "1/1 [==============================] - 0s 6ms/step - loss: 10.3666 - mae: 10.3666\n",
            "Epoch 48/100\n",
            "1/1 [==============================] - 0s 8ms/step - loss: 10.3621 - mae: 10.3621\n",
            "Epoch 49/100\n",
            "1/1 [==============================] - 0s 8ms/step - loss: 10.3576 - mae: 10.3576\n",
            "Epoch 50/100\n",
            "1/1 [==============================] - 0s 6ms/step - loss: 10.3531 - mae: 10.3531\n",
            "Epoch 51/100\n",
            "1/1 [==============================] - 0s 6ms/step - loss: 10.3486 - mae: 10.3486\n",
            "Epoch 52/100\n",
            "1/1 [==============================] - 0s 8ms/step - loss: 10.3441 - mae: 10.3441\n",
            "Epoch 53/100\n",
            "1/1 [==============================] - 0s 6ms/step - loss: 10.3396 - mae: 10.3396\n",
            "Epoch 54/100\n",
            "1/1 [==============================] - 0s 5ms/step - loss: 10.3351 - mae: 10.3351\n",
            "Epoch 55/100\n",
            "1/1 [==============================] - 0s 5ms/step - loss: 10.3306 - mae: 10.3306\n",
            "Epoch 56/100\n",
            "1/1 [==============================] - 0s 6ms/step - loss: 10.3261 - mae: 10.3261\n",
            "Epoch 57/100\n",
            "1/1 [==============================] - 0s 6ms/step - loss: 10.3216 - mae: 10.3216\n",
            "Epoch 58/100\n",
            "1/1 [==============================] - 0s 7ms/step - loss: 10.3171 - mae: 10.3171\n",
            "Epoch 59/100\n",
            "1/1 [==============================] - 0s 8ms/step - loss: 10.3126 - mae: 10.3126\n",
            "Epoch 60/100\n",
            "1/1 [==============================] - 0s 9ms/step - loss: 10.3081 - mae: 10.3081\n",
            "Epoch 61/100\n",
            "1/1 [==============================] - 0s 6ms/step - loss: 10.3036 - mae: 10.3036\n",
            "Epoch 62/100\n",
            "1/1 [==============================] - 0s 13ms/step - loss: 10.2991 - mae: 10.2991\n",
            "Epoch 63/100\n",
            "1/1 [==============================] - 0s 7ms/step - loss: 10.2946 - mae: 10.2946\n",
            "Epoch 64/100\n",
            "1/1 [==============================] - 0s 10ms/step - loss: 10.2901 - mae: 10.2901\n",
            "Epoch 65/100\n",
            "1/1 [==============================] - 0s 8ms/step - loss: 10.2856 - mae: 10.2856\n",
            "Epoch 66/100\n",
            "1/1 [==============================] - 0s 7ms/step - loss: 10.2811 - mae: 10.2811\n",
            "Epoch 67/100\n",
            "1/1 [==============================] - 0s 7ms/step - loss: 10.2766 - mae: 10.2766\n",
            "Epoch 68/100\n",
            "1/1 [==============================] - 0s 9ms/step - loss: 10.2721 - mae: 10.2721\n",
            "Epoch 69/100\n",
            "1/1 [==============================] - 0s 7ms/step - loss: 10.2676 - mae: 10.2676\n",
            "Epoch 70/100\n",
            "1/1 [==============================] - 0s 8ms/step - loss: 10.2631 - mae: 10.2631\n",
            "Epoch 71/100\n",
            "1/1 [==============================] - 0s 8ms/step - loss: 10.2586 - mae: 10.2586\n",
            "Epoch 72/100\n",
            "1/1 [==============================] - 0s 7ms/step - loss: 10.2541 - mae: 10.2541\n",
            "Epoch 73/100\n",
            "1/1 [==============================] - 0s 7ms/step - loss: 10.2496 - mae: 10.2496\n",
            "Epoch 74/100\n",
            "1/1 [==============================] - 0s 10ms/step - loss: 10.2451 - mae: 10.2451\n",
            "Epoch 75/100\n",
            "1/1 [==============================] - 0s 6ms/step - loss: 10.2406 - mae: 10.2406\n",
            "Epoch 76/100\n",
            "1/1 [==============================] - 0s 14ms/step - loss: 10.2361 - mae: 10.2361\n",
            "Epoch 77/100\n",
            "1/1 [==============================] - 0s 8ms/step - loss: 10.2316 - mae: 10.2316\n",
            "Epoch 78/100\n",
            "1/1 [==============================] - 0s 9ms/step - loss: 10.2271 - mae: 10.2271\n",
            "Epoch 79/100\n",
            "1/1 [==============================] - 0s 9ms/step - loss: 10.2226 - mae: 10.2226\n",
            "Epoch 80/100\n",
            "1/1 [==============================] - 0s 12ms/step - loss: 10.2181 - mae: 10.2181\n",
            "Epoch 81/100\n",
            "1/1 [==============================] - 0s 7ms/step - loss: 10.2136 - mae: 10.2136\n",
            "Epoch 82/100\n",
            "1/1 [==============================] - 0s 8ms/step - loss: 10.2091 - mae: 10.2091\n",
            "Epoch 83/100\n",
            "1/1 [==============================] - 0s 7ms/step - loss: 10.2046 - mae: 10.2046\n",
            "Epoch 84/100\n",
            "1/1 [==============================] - 0s 4ms/step - loss: 10.2001 - mae: 10.2001\n",
            "Epoch 85/100\n",
            "1/1 [==============================] - 0s 4ms/step - loss: 10.1956 - mae: 10.1956\n",
            "Epoch 86/100\n",
            "1/1 [==============================] - 0s 7ms/step - loss: 10.1911 - mae: 10.1911\n",
            "Epoch 87/100\n",
            "1/1 [==============================] - 0s 8ms/step - loss: 10.1866 - mae: 10.1866\n",
            "Epoch 88/100\n",
            "1/1 [==============================] - 0s 6ms/step - loss: 10.1821 - mae: 10.1821\n",
            "Epoch 89/100\n",
            "1/1 [==============================] - 0s 8ms/step - loss: 10.1776 - mae: 10.1776\n",
            "Epoch 90/100\n",
            "1/1 [==============================] - 0s 7ms/step - loss: 10.1731 - mae: 10.1731\n",
            "Epoch 91/100\n",
            "1/1 [==============================] - 0s 6ms/step - loss: 10.1686 - mae: 10.1686\n",
            "Epoch 92/100\n",
            "1/1 [==============================] - 0s 5ms/step - loss: 10.1641 - mae: 10.1641\n",
            "Epoch 93/100\n",
            "1/1 [==============================] - 0s 8ms/step - loss: 10.1596 - mae: 10.1596\n",
            "Epoch 94/100\n",
            "1/1 [==============================] - 0s 8ms/step - loss: 10.1551 - mae: 10.1551\n",
            "Epoch 95/100\n",
            "1/1 [==============================] - 0s 13ms/step - loss: 10.1506 - mae: 10.1506\n",
            "Epoch 96/100\n",
            "1/1 [==============================] - 0s 9ms/step - loss: 10.1461 - mae: 10.1461\n",
            "Epoch 97/100\n",
            "1/1 [==============================] - 0s 24ms/step - loss: 10.1416 - mae: 10.1416\n",
            "Epoch 98/100\n",
            "1/1 [==============================] - 0s 11ms/step - loss: 10.1371 - mae: 10.1371\n",
            "Epoch 99/100\n",
            "1/1 [==============================] - 0s 15ms/step - loss: 10.1326 - mae: 10.1326\n",
            "Epoch 100/100\n",
            "1/1 [==============================] - 0s 21ms/step - loss: 10.1281 - mae: 10.1281\n"
          ],
          "name": "stdout"
        },
        {
          "output_type": "execute_result",
          "data": {
            "text/plain": [
              "<tensorflow.python.keras.callbacks.History at 0x7f0b4012ae90>"
            ]
          },
          "metadata": {
            "tags": []
          },
          "execution_count": 14
        }
      ]
    },
    {
      "cell_type": "code",
      "metadata": {
        "id": "W8hRwKJCbWZ3"
      },
      "source": [
        "y_pred = model_adam.predict([17.0])"
      ],
      "execution_count": 15,
      "outputs": []
    },
    {
      "cell_type": "code",
      "metadata": {
        "colab": {
          "base_uri": "https://localhost:8080/"
        },
        "id": "5pPRu9XtbssI",
        "outputId": "0c16c1d5-bb03-414e-c340-7d25bde4203f"
      },
      "source": [
        "y_pred"
      ],
      "execution_count": 16,
      "outputs": [
        {
          "output_type": "execute_result",
          "data": {
            "text/plain": [
              "array([[16.014063]], dtype=float32)"
            ]
          },
          "metadata": {
            "tags": []
          },
          "execution_count": 16
        }
      ]
    },
    {
      "cell_type": "code",
      "metadata": {
        "colab": {
          "base_uri": "https://localhost:8080/"
        },
        "id": "mYSOG8VCbtjf",
        "outputId": "186a7226-0d43-420f-fccb-4dd8eae6d39b"
      },
      "source": [
        "model_layer = tf.keras.Sequential([\n",
        "                                   tf.keras.layers.Dense(100, activation=\"relu\"), #added a layer\n",
        "                                      tf.keras.layers.Dense(1)\n",
        "])\n",
        "                                    \n",
        "\n",
        "model_layer.compile(optimizer=\"sgd\", \n",
        "              loss = 'mae',\n",
        "              metrics = ['mae'])\n",
        "\n",
        "model_layer.fit(X, y, epochs = 100) #increased the number of epochs"
      ],
      "execution_count": 17,
      "outputs": [
        {
          "output_type": "stream",
          "text": [
            "Epoch 1/100\n",
            "1/1 [==============================] - 0s 342ms/step - loss: 14.0407 - mae: 14.0407\n",
            "Epoch 2/100\n",
            "1/1 [==============================] - 0s 5ms/step - loss: 13.4800 - mae: 13.4800\n",
            "Epoch 3/100\n",
            "1/1 [==============================] - 0s 7ms/step - loss: 12.9217 - mae: 12.9217\n",
            "Epoch 4/100\n",
            "1/1 [==============================] - 0s 6ms/step - loss: 12.3612 - mae: 12.3612\n",
            "Epoch 5/100\n",
            "1/1 [==============================] - 0s 6ms/step - loss: 11.7937 - mae: 11.7937\n",
            "Epoch 6/100\n",
            "1/1 [==============================] - 0s 14ms/step - loss: 11.2106 - mae: 11.2106\n",
            "Epoch 7/100\n",
            "1/1 [==============================] - 0s 5ms/step - loss: 10.6209 - mae: 10.6209\n",
            "Epoch 8/100\n",
            "1/1 [==============================] - 0s 5ms/step - loss: 10.0058 - mae: 10.0058\n",
            "Epoch 9/100\n",
            "1/1 [==============================] - 0s 7ms/step - loss: 9.3625 - mae: 9.3625\n",
            "Epoch 10/100\n",
            "1/1 [==============================] - 0s 9ms/step - loss: 8.6887 - mae: 8.6887\n",
            "Epoch 11/100\n",
            "1/1 [==============================] - 0s 8ms/step - loss: 7.9730 - mae: 7.9730\n",
            "Epoch 12/100\n",
            "1/1 [==============================] - 0s 8ms/step - loss: 7.2130 - mae: 7.2130\n",
            "Epoch 13/100\n",
            "1/1 [==============================] - 0s 8ms/step - loss: 6.3984 - mae: 6.3984\n",
            "Epoch 14/100\n",
            "1/1 [==============================] - 0s 10ms/step - loss: 5.5215 - mae: 5.5215\n",
            "Epoch 15/100\n",
            "1/1 [==============================] - 0s 7ms/step - loss: 4.5762 - mae: 4.5762\n",
            "Epoch 16/100\n",
            "1/1 [==============================] - 0s 11ms/step - loss: 4.0920 - mae: 4.0920\n",
            "Epoch 17/100\n",
            "1/1 [==============================] - 0s 13ms/step - loss: 4.0292 - mae: 4.0292\n",
            "Epoch 18/100\n",
            "1/1 [==============================] - 0s 7ms/step - loss: 3.9887 - mae: 3.9887\n",
            "Epoch 19/100\n",
            "1/1 [==============================] - 0s 7ms/step - loss: 3.9591 - mae: 3.9591\n",
            "Epoch 20/100\n",
            "1/1 [==============================] - 0s 8ms/step - loss: 3.8951 - mae: 3.8951\n",
            "Epoch 21/100\n",
            "1/1 [==============================] - 0s 8ms/step - loss: 3.9391 - mae: 3.9391\n",
            "Epoch 22/100\n",
            "1/1 [==============================] - 0s 10ms/step - loss: 3.8718 - mae: 3.8718\n",
            "Epoch 23/100\n",
            "1/1 [==============================] - 0s 5ms/step - loss: 3.9498 - mae: 3.9498\n",
            "Epoch 24/100\n",
            "1/1 [==============================] - 0s 8ms/step - loss: 3.8853 - mae: 3.8853\n",
            "Epoch 25/100\n",
            "1/1 [==============================] - 0s 16ms/step - loss: 3.9245 - mae: 3.9245\n",
            "Epoch 26/100\n",
            "1/1 [==============================] - 0s 8ms/step - loss: 3.8929 - mae: 3.8929\n",
            "Epoch 27/100\n",
            "1/1 [==============================] - 0s 5ms/step - loss: 3.8991 - mae: 3.8991\n",
            "Epoch 28/100\n",
            "1/1 [==============================] - 0s 6ms/step - loss: 3.9005 - mae: 3.9005\n",
            "Epoch 29/100\n",
            "1/1 [==============================] - 0s 5ms/step - loss: 3.8734 - mae: 3.8734\n",
            "Epoch 30/100\n",
            "1/1 [==============================] - 0s 6ms/step - loss: 3.9084 - mae: 3.9084\n",
            "Epoch 31/100\n",
            "1/1 [==============================] - 0s 6ms/step - loss: 3.8507 - mae: 3.8507\n",
            "Epoch 32/100\n",
            "1/1 [==============================] - 0s 6ms/step - loss: 3.9226 - mae: 3.9226\n",
            "Epoch 33/100\n",
            "1/1 [==============================] - 0s 7ms/step - loss: 3.8550 - mae: 3.8550\n",
            "Epoch 34/100\n",
            "1/1 [==============================] - 0s 5ms/step - loss: 3.9021 - mae: 3.9021\n",
            "Epoch 35/100\n",
            "1/1 [==============================] - 0s 7ms/step - loss: 3.8628 - mae: 3.8628\n",
            "Epoch 36/100\n",
            "1/1 [==============================] - 0s 6ms/step - loss: 3.8763 - mae: 3.8763\n",
            "Epoch 37/100\n",
            "1/1 [==============================] - 0s 7ms/step - loss: 3.8707 - mae: 3.8707\n",
            "Epoch 38/100\n",
            "1/1 [==============================] - 0s 13ms/step - loss: 3.8504 - mae: 3.8504\n",
            "Epoch 39/100\n",
            "1/1 [==============================] - 0s 18ms/step - loss: 3.8787 - mae: 3.8787\n",
            "Epoch 40/100\n",
            "1/1 [==============================] - 0s 8ms/step - loss: 3.8298 - mae: 3.8298\n",
            "Epoch 41/100\n",
            "1/1 [==============================] - 0s 11ms/step - loss: 3.8932 - mae: 3.8932\n",
            "Epoch 42/100\n",
            "1/1 [==============================] - 0s 8ms/step - loss: 3.8259 - mae: 3.8259\n",
            "Epoch 43/100\n",
            "1/1 [==============================] - 0s 10ms/step - loss: 3.8783 - mae: 3.8783\n",
            "Epoch 44/100\n",
            "1/1 [==============================] - 0s 7ms/step - loss: 3.8339 - mae: 3.8339\n",
            "Epoch 45/100\n",
            "1/1 [==============================] - 0s 10ms/step - loss: 3.8523 - mae: 3.8523\n",
            "Epoch 46/100\n",
            "1/1 [==============================] - 0s 9ms/step - loss: 3.8420 - mae: 3.8420\n",
            "Epoch 47/100\n",
            "1/1 [==============================] - 0s 8ms/step - loss: 3.8262 - mae: 3.8262\n",
            "Epoch 48/100\n",
            "1/1 [==============================] - 0s 13ms/step - loss: 3.8517 - mae: 3.8517\n",
            "Epoch 49/100\n",
            "1/1 [==============================] - 0s 12ms/step - loss: 3.8055 - mae: 3.8055\n",
            "Epoch 50/100\n",
            "1/1 [==============================] - 0s 6ms/step - loss: 3.8648 - mae: 3.8648\n",
            "Epoch 51/100\n",
            "1/1 [==============================] - 0s 9ms/step - loss: 3.7979 - mae: 3.7979\n",
            "Epoch 52/100\n",
            "1/1 [==============================] - 0s 8ms/step - loss: 3.8533 - mae: 3.8533\n",
            "Epoch 53/100\n",
            "1/1 [==============================] - 0s 4ms/step - loss: 3.8061 - mae: 3.8061\n",
            "Epoch 54/100\n",
            "1/1 [==============================] - 0s 6ms/step - loss: 3.8270 - mae: 3.8270\n",
            "Epoch 55/100\n",
            "1/1 [==============================] - 0s 14ms/step - loss: 3.8144 - mae: 3.8144\n",
            "Epoch 56/100\n",
            "1/1 [==============================] - 0s 5ms/step - loss: 3.8006 - mae: 3.8006\n",
            "Epoch 57/100\n",
            "1/1 [==============================] - 0s 6ms/step - loss: 3.8264 - mae: 3.8264\n",
            "Epoch 58/100\n",
            "1/1 [==============================] - 0s 9ms/step - loss: 3.7796 - mae: 3.7796\n",
            "Epoch 59/100\n",
            "1/1 [==============================] - 0s 6ms/step - loss: 3.8376 - mae: 3.8376\n",
            "Epoch 60/100\n",
            "1/1 [==============================] - 0s 12ms/step - loss: 3.7710 - mae: 3.7710\n",
            "Epoch 61/100\n",
            "1/1 [==============================] - 0s 6ms/step - loss: 3.8270 - mae: 3.8270\n",
            "Epoch 62/100\n",
            "1/1 [==============================] - 0s 8ms/step - loss: 3.7794 - mae: 3.7794\n",
            "Epoch 63/100\n",
            "1/1 [==============================] - 0s 9ms/step - loss: 3.8004 - mae: 3.8004\n",
            "Epoch 64/100\n",
            "1/1 [==============================] - 0s 11ms/step - loss: 3.7879 - mae: 3.7879\n",
            "Epoch 65/100\n",
            "1/1 [==============================] - 0s 5ms/step - loss: 3.7737 - mae: 3.7737\n",
            "Epoch 66/100\n",
            "1/1 [==============================] - 0s 17ms/step - loss: 3.8027 - mae: 3.8027\n",
            "Epoch 67/100\n",
            "1/1 [==============================] - 0s 7ms/step - loss: 3.7524 - mae: 3.7524\n",
            "Epoch 68/100\n",
            "1/1 [==============================] - 0s 5ms/step - loss: 3.8114 - mae: 3.8114\n",
            "Epoch 69/100\n",
            "1/1 [==============================] - 0s 9ms/step - loss: 3.7451 - mae: 3.7451\n",
            "Epoch 70/100\n",
            "1/1 [==============================] - 0s 6ms/step - loss: 3.7994 - mae: 3.7994\n",
            "Epoch 71/100\n",
            "1/1 [==============================] - 0s 6ms/step - loss: 3.7537 - mae: 3.7537\n",
            "Epoch 72/100\n",
            "1/1 [==============================] - 0s 6ms/step - loss: 3.7726 - mae: 3.7726\n",
            "Epoch 73/100\n",
            "1/1 [==============================] - 0s 6ms/step - loss: 3.7624 - mae: 3.7624\n",
            "Epoch 74/100\n",
            "1/1 [==============================] - 0s 6ms/step - loss: 3.7474 - mae: 3.7474\n",
            "Epoch 75/100\n",
            "1/1 [==============================] - 0s 6ms/step - loss: 3.7774 - mae: 3.7774\n",
            "Epoch 76/100\n",
            "1/1 [==============================] - 0s 11ms/step - loss: 3.7238 - mae: 3.7238\n",
            "Epoch 77/100\n",
            "1/1 [==============================] - 0s 6ms/step - loss: 3.7863 - mae: 3.7863\n",
            "Epoch 78/100\n",
            "1/1 [==============================] - 0s 7ms/step - loss: 3.7203 - mae: 3.7203\n",
            "Epoch 79/100\n",
            "1/1 [==============================] - 0s 10ms/step - loss: 3.7705 - mae: 3.7705\n",
            "Epoch 80/100\n",
            "1/1 [==============================] - 0s 6ms/step - loss: 3.7290 - mae: 3.7290\n",
            "Epoch 81/100\n",
            "1/1 [==============================] - 0s 5ms/step - loss: 3.7433 - mae: 3.7433\n",
            "Epoch 82/100\n",
            "1/1 [==============================] - 0s 9ms/step - loss: 3.7379 - mae: 3.7379\n",
            "Epoch 83/100\n",
            "1/1 [==============================] - 0s 7ms/step - loss: 3.7196 - mae: 3.7196\n",
            "Epoch 84/100\n",
            "1/1 [==============================] - 0s 11ms/step - loss: 3.7531 - mae: 3.7531\n",
            "Epoch 85/100\n",
            "1/1 [==============================] - 0s 7ms/step - loss: 3.6939 - mae: 3.6939\n",
            "Epoch 86/100\n",
            "1/1 [==============================] - 0s 7ms/step - loss: 3.7622 - mae: 3.7622\n",
            "Epoch 87/100\n",
            "1/1 [==============================] - 0s 11ms/step - loss: 3.6964 - mae: 3.6964\n",
            "Epoch 88/100\n",
            "1/1 [==============================] - 0s 9ms/step - loss: 3.7403 - mae: 3.7403\n",
            "Epoch 89/100\n",
            "1/1 [==============================] - 0s 7ms/step - loss: 3.7054 - mae: 3.7054\n",
            "Epoch 90/100\n",
            "1/1 [==============================] - 0s 7ms/step - loss: 3.7128 - mae: 3.7128\n",
            "Epoch 91/100\n",
            "1/1 [==============================] - 0s 10ms/step - loss: 3.7145 - mae: 3.7145\n",
            "Epoch 92/100\n",
            "1/1 [==============================] - 0s 6ms/step - loss: 3.6903 - mae: 3.6903\n",
            "Epoch 93/100\n",
            "1/1 [==============================] - 0s 6ms/step - loss: 3.7299 - mae: 3.7299\n",
            "Epoch 94/100\n",
            "1/1 [==============================] - 0s 8ms/step - loss: 3.6645 - mae: 3.6645\n",
            "Epoch 95/100\n",
            "1/1 [==============================] - 0s 7ms/step - loss: 3.7364 - mae: 3.7364\n",
            "Epoch 96/100\n",
            "1/1 [==============================] - 0s 13ms/step - loss: 3.6735 - mae: 3.6735\n",
            "Epoch 97/100\n",
            "1/1 [==============================] - 0s 26ms/step - loss: 3.7087 - mae: 3.7087\n",
            "Epoch 98/100\n",
            "1/1 [==============================] - 0s 9ms/step - loss: 3.6827 - mae: 3.6827\n",
            "Epoch 99/100\n",
            "1/1 [==============================] - 0s 7ms/step - loss: 3.6808 - mae: 3.6808\n",
            "Epoch 100/100\n",
            "1/1 [==============================] - 0s 9ms/step - loss: 3.6927 - mae: 3.6927\n"
          ],
          "name": "stdout"
        },
        {
          "output_type": "execute_result",
          "data": {
            "text/plain": [
              "<tensorflow.python.keras.callbacks.History at 0x7f0b4003be90>"
            ]
          },
          "metadata": {
            "tags": []
          },
          "execution_count": 17
        }
      ]
    },
    {
      "cell_type": "code",
      "metadata": {
        "id": "Jn5TXRX4cDDV"
      },
      "source": [
        "y_pred = model_layer.predict([17.0])"
      ],
      "execution_count": 18,
      "outputs": []
    },
    {
      "cell_type": "code",
      "metadata": {
        "colab": {
          "base_uri": "https://localhost:8080/"
        },
        "id": "zTeihfBccJPA",
        "outputId": "5dded758-8da6-4de0-a76b-533e9b1f4b12"
      },
      "source": [
        "y_pred"
      ],
      "execution_count": 19,
      "outputs": [
        {
          "output_type": "execute_result",
          "data": {
            "text/plain": [
              "array([[31.727652]], dtype=float32)"
            ]
          },
          "metadata": {
            "tags": []
          },
          "execution_count": 19
        }
      ]
    },
    {
      "cell_type": "markdown",
      "metadata": {
        "id": "ZTBkyWhEv_yM"
      },
      "source": [
        "#### In the above code, the loss is reduced but the prediction is way off. This is because the model has overfil on the training data and is performing poorly on new data."
      ]
    },
    {
      "cell_type": "code",
      "metadata": {
        "colab": {
          "base_uri": "https://localhost:8080/"
        },
        "id": "WbDLnlOTwCfz",
        "outputId": "c7bc8d1b-7845-440d-ea36-f25ff03786fb"
      },
      "source": [
        "model_lr = tf.keras.Sequential([\n",
        "                                tf.keras.layers.Dense(50, activation=None),\n",
        "                                      tf.keras.layers.Dense(1)\n",
        "])\n",
        "\n",
        "model_lr.compile(tf.keras.optimizers.Adam(lr = 0.01), #changed the optimizer\n",
        "              loss = 'mae',\n",
        "              metrics = ['mae'])\n",
        "\n",
        "model_lr.fit(X, y, epochs = 100) #increased the number of epochs"
      ],
      "execution_count": 20,
      "outputs": [
        {
          "output_type": "stream",
          "text": [
            "/usr/local/lib/python3.7/dist-packages/tensorflow/python/keras/optimizer_v2/optimizer_v2.py:375: UserWarning: The `lr` argument is deprecated, use `learning_rate` instead.\n",
            "  \"The `lr` argument is deprecated, use `learning_rate` instead.\")\n"
          ],
          "name": "stderr"
        },
        {
          "output_type": "stream",
          "text": [
            "Epoch 1/100\n",
            "1/1 [==============================] - 0s 385ms/step - loss: 13.3252 - mae: 13.3252\n",
            "Epoch 2/100\n",
            "1/1 [==============================] - 0s 5ms/step - loss: 12.6189 - mae: 12.6189\n",
            "Epoch 3/100\n",
            "1/1 [==============================] - 0s 6ms/step - loss: 11.9164 - mae: 11.9164\n",
            "Epoch 4/100\n",
            "1/1 [==============================] - 0s 6ms/step - loss: 11.2153 - mae: 11.2153\n",
            "Epoch 5/100\n",
            "1/1 [==============================] - 0s 6ms/step - loss: 10.5129 - mae: 10.5129\n",
            "Epoch 6/100\n",
            "1/1 [==============================] - 0s 8ms/step - loss: 9.8064 - mae: 9.8064\n",
            "Epoch 7/100\n",
            "1/1 [==============================] - 0s 8ms/step - loss: 9.0930 - mae: 9.0930\n",
            "Epoch 8/100\n",
            "1/1 [==============================] - 0s 7ms/step - loss: 8.3699 - mae: 8.3699\n",
            "Epoch 9/100\n",
            "1/1 [==============================] - 0s 7ms/step - loss: 7.6340 - mae: 7.6340\n",
            "Epoch 10/100\n",
            "1/1 [==============================] - 0s 7ms/step - loss: 6.8820 - mae: 6.8820\n",
            "Epoch 11/100\n",
            "1/1 [==============================] - 0s 7ms/step - loss: 6.7092 - mae: 6.7092\n",
            "Epoch 12/100\n",
            "1/1 [==============================] - 0s 8ms/step - loss: 7.1087 - mae: 7.1087\n",
            "Epoch 13/100\n",
            "1/1 [==============================] - 0s 7ms/step - loss: 7.4260 - mae: 7.4260\n",
            "Epoch 14/100\n",
            "1/1 [==============================] - 0s 4ms/step - loss: 7.6865 - mae: 7.6865\n",
            "Epoch 15/100\n",
            "1/1 [==============================] - 0s 7ms/step - loss: 7.7213 - mae: 7.7213\n",
            "Epoch 16/100\n",
            "1/1 [==============================] - 0s 10ms/step - loss: 7.5845 - mae: 7.5845\n",
            "Epoch 17/100\n",
            "1/1 [==============================] - 0s 10ms/step - loss: 7.3167 - mae: 7.3167\n",
            "Epoch 18/100\n",
            "1/1 [==============================] - 0s 8ms/step - loss: 6.9720 - mae: 6.9720\n",
            "Epoch 19/100\n",
            "1/1 [==============================] - 0s 7ms/step - loss: 6.7194 - mae: 6.7194\n",
            "Epoch 20/100\n",
            "1/1 [==============================] - 0s 7ms/step - loss: 6.4525 - mae: 6.4525\n",
            "Epoch 21/100\n",
            "1/1 [==============================] - 0s 11ms/step - loss: 6.1749 - mae: 6.1749\n",
            "Epoch 22/100\n",
            "1/1 [==============================] - 0s 8ms/step - loss: 6.0572 - mae: 6.0572\n",
            "Epoch 23/100\n",
            "1/1 [==============================] - 0s 6ms/step - loss: 6.0125 - mae: 6.0125\n",
            "Epoch 24/100\n",
            "1/1 [==============================] - 0s 5ms/step - loss: 6.1412 - mae: 6.1412\n",
            "Epoch 25/100\n",
            "1/1 [==============================] - 0s 6ms/step - loss: 6.2178 - mae: 6.2178\n",
            "Epoch 26/100\n",
            "1/1 [==============================] - 0s 9ms/step - loss: 6.1970 - mae: 6.1970\n",
            "Epoch 27/100\n",
            "1/1 [==============================] - 0s 7ms/step - loss: 6.0907 - mae: 6.0907\n",
            "Epoch 28/100\n",
            "1/1 [==============================] - 0s 8ms/step - loss: 5.9080 - mae: 5.9080\n",
            "Epoch 29/100\n",
            "1/1 [==============================] - 0s 8ms/step - loss: 5.6554 - mae: 5.6554\n",
            "Epoch 30/100\n",
            "1/1 [==============================] - 0s 6ms/step - loss: 5.4528 - mae: 5.4528\n",
            "Epoch 31/100\n",
            "1/1 [==============================] - 0s 8ms/step - loss: 5.3421 - mae: 5.3421\n",
            "Epoch 32/100\n",
            "1/1 [==============================] - 0s 6ms/step - loss: 5.2553 - mae: 5.2553\n",
            "Epoch 33/100\n",
            "1/1 [==============================] - 0s 5ms/step - loss: 5.2566 - mae: 5.2566\n",
            "Epoch 34/100\n",
            "1/1 [==============================] - 0s 5ms/step - loss: 5.2154 - mae: 5.2154\n",
            "Epoch 35/100\n",
            "1/1 [==============================] - 0s 6ms/step - loss: 5.1347 - mae: 5.1347\n",
            "Epoch 36/100\n",
            "1/1 [==============================] - 0s 19ms/step - loss: 5.0175 - mae: 5.0175\n",
            "Epoch 37/100\n",
            "1/1 [==============================] - 0s 8ms/step - loss: 4.8666 - mae: 4.8666\n",
            "Epoch 38/100\n",
            "1/1 [==============================] - 0s 5ms/step - loss: 4.6846 - mae: 4.6846\n",
            "Epoch 39/100\n",
            "1/1 [==============================] - 0s 11ms/step - loss: 4.5386 - mae: 4.5386\n",
            "Epoch 40/100\n",
            "1/1 [==============================] - 0s 8ms/step - loss: 4.4407 - mae: 4.4407\n",
            "Epoch 41/100\n",
            "1/1 [==============================] - 0s 8ms/step - loss: 4.3352 - mae: 4.3352\n",
            "Epoch 42/100\n",
            "1/1 [==============================] - 0s 7ms/step - loss: 4.2474 - mae: 4.2474\n",
            "Epoch 43/100\n",
            "1/1 [==============================] - 0s 6ms/step - loss: 4.1164 - mae: 4.1164\n",
            "Epoch 44/100\n",
            "1/1 [==============================] - 0s 6ms/step - loss: 3.9441 - mae: 3.9441\n",
            "Epoch 45/100\n",
            "1/1 [==============================] - 0s 7ms/step - loss: 3.7902 - mae: 3.7902\n",
            "Epoch 46/100\n",
            "1/1 [==============================] - 0s 12ms/step - loss: 3.6292 - mae: 3.6292\n",
            "Epoch 47/100\n",
            "1/1 [==============================] - 0s 6ms/step - loss: 3.4995 - mae: 3.4995\n",
            "Epoch 48/100\n",
            "1/1 [==============================] - 0s 8ms/step - loss: 3.3714 - mae: 3.3714\n",
            "Epoch 49/100\n",
            "1/1 [==============================] - 0s 11ms/step - loss: 3.1931 - mae: 3.1931\n",
            "Epoch 50/100\n",
            "1/1 [==============================] - 0s 17ms/step - loss: 2.9708 - mae: 2.9708\n",
            "Epoch 51/100\n",
            "1/1 [==============================] - 0s 14ms/step - loss: 2.7988 - mae: 2.7988\n",
            "Epoch 52/100\n",
            "1/1 [==============================] - 0s 11ms/step - loss: 2.6161 - mae: 2.6161\n",
            "Epoch 53/100\n",
            "1/1 [==============================] - 0s 6ms/step - loss: 2.4227 - mae: 2.4227\n",
            "Epoch 54/100\n",
            "1/1 [==============================] - 0s 6ms/step - loss: 2.2184 - mae: 2.2184\n",
            "Epoch 55/100\n",
            "1/1 [==============================] - 0s 6ms/step - loss: 2.0029 - mae: 2.0029\n",
            "Epoch 56/100\n",
            "1/1 [==============================] - 0s 6ms/step - loss: 1.7762 - mae: 1.7762\n",
            "Epoch 57/100\n",
            "1/1 [==============================] - 0s 6ms/step - loss: 1.5380 - mae: 1.5380\n",
            "Epoch 58/100\n",
            "1/1 [==============================] - 0s 6ms/step - loss: 1.2882 - mae: 1.2882\n",
            "Epoch 59/100\n",
            "1/1 [==============================] - 0s 6ms/step - loss: 1.0263 - mae: 1.0263\n",
            "Epoch 60/100\n",
            "1/1 [==============================] - 0s 7ms/step - loss: 0.7772 - mae: 0.7772\n",
            "Epoch 61/100\n",
            "1/1 [==============================] - 0s 7ms/step - loss: 0.4794 - mae: 0.4794\n",
            "Epoch 62/100\n",
            "1/1 [==============================] - 0s 7ms/step - loss: 0.2193 - mae: 0.2193\n",
            "Epoch 63/100\n",
            "1/1 [==============================] - 0s 6ms/step - loss: 0.2200 - mae: 0.2200\n",
            "Epoch 64/100\n",
            "1/1 [==============================] - 0s 8ms/step - loss: 0.3832 - mae: 0.3832\n",
            "Epoch 65/100\n",
            "1/1 [==============================] - 0s 7ms/step - loss: 0.6435 - mae: 0.6435\n",
            "Epoch 66/100\n",
            "1/1 [==============================] - 0s 6ms/step - loss: 0.7387 - mae: 0.7387\n",
            "Epoch 67/100\n",
            "1/1 [==============================] - 0s 5ms/step - loss: 0.7081 - mae: 0.7081\n",
            "Epoch 68/100\n",
            "1/1 [==============================] - 0s 6ms/step - loss: 0.9016 - mae: 0.9016\n",
            "Epoch 69/100\n",
            "1/1 [==============================] - 0s 8ms/step - loss: 0.8610 - mae: 0.8610\n",
            "Epoch 70/100\n",
            "1/1 [==============================] - 0s 6ms/step - loss: 0.6678 - mae: 0.6678\n",
            "Epoch 71/100\n",
            "1/1 [==============================] - 0s 8ms/step - loss: 0.7507 - mae: 0.7507\n",
            "Epoch 72/100\n",
            "1/1 [==============================] - 0s 5ms/step - loss: 0.6468 - mae: 0.6468\n",
            "Epoch 73/100\n",
            "1/1 [==============================] - 0s 7ms/step - loss: 0.3669 - mae: 0.3669\n",
            "Epoch 74/100\n",
            "1/1 [==============================] - 0s 5ms/step - loss: 0.3506 - mae: 0.3506\n",
            "Epoch 75/100\n",
            "1/1 [==============================] - 0s 6ms/step - loss: 0.1820 - mae: 0.1820\n",
            "Epoch 76/100\n",
            "1/1 [==============================] - 0s 5ms/step - loss: 0.2013 - mae: 0.2013\n",
            "Epoch 77/100\n",
            "1/1 [==============================] - 0s 5ms/step - loss: 0.3195 - mae: 0.3195\n",
            "Epoch 78/100\n",
            "1/1 [==============================] - 0s 5ms/step - loss: 0.2860 - mae: 0.2860\n",
            "Epoch 79/100\n",
            "1/1 [==============================] - 0s 5ms/step - loss: 0.3504 - mae: 0.3504\n",
            "Epoch 80/100\n",
            "1/1 [==============================] - 0s 6ms/step - loss: 0.3342 - mae: 0.3342\n",
            "Epoch 81/100\n",
            "1/1 [==============================] - 0s 8ms/step - loss: 0.3995 - mae: 0.3995\n",
            "Epoch 82/100\n",
            "1/1 [==============================] - 0s 8ms/step - loss: 0.3205 - mae: 0.3205\n",
            "Epoch 83/100\n",
            "1/1 [==============================] - 0s 13ms/step - loss: 0.2763 - mae: 0.2763\n",
            "Epoch 84/100\n",
            "1/1 [==============================] - 0s 15ms/step - loss: 0.2143 - mae: 0.2143\n",
            "Epoch 85/100\n",
            "1/1 [==============================] - 0s 6ms/step - loss: 0.1441 - mae: 0.1441\n",
            "Epoch 86/100\n",
            "1/1 [==============================] - 0s 6ms/step - loss: 0.1198 - mae: 0.1198\n",
            "Epoch 87/100\n",
            "1/1 [==============================] - 0s 7ms/step - loss: 0.3026 - mae: 0.3026\n",
            "Epoch 88/100\n",
            "1/1 [==============================] - 0s 8ms/step - loss: 0.4050 - mae: 0.4050\n",
            "Epoch 89/100\n",
            "1/1 [==============================] - 0s 8ms/step - loss: 0.2695 - mae: 0.2695\n",
            "Epoch 90/100\n",
            "1/1 [==============================] - 0s 7ms/step - loss: 0.2264 - mae: 0.2264\n",
            "Epoch 91/100\n",
            "1/1 [==============================] - 0s 9ms/step - loss: 0.2391 - mae: 0.2391\n",
            "Epoch 92/100\n",
            "1/1 [==============================] - 0s 28ms/step - loss: 0.0548 - mae: 0.0548\n",
            "Epoch 93/100\n",
            "1/1 [==============================] - 0s 14ms/step - loss: 0.0572 - mae: 0.0572\n",
            "Epoch 94/100\n",
            "1/1 [==============================] - 0s 23ms/step - loss: 0.2081 - mae: 0.2081\n",
            "Epoch 95/100\n",
            "1/1 [==============================] - 0s 10ms/step - loss: 0.1791 - mae: 0.1791\n",
            "Epoch 96/100\n",
            "1/1 [==============================] - 0s 9ms/step - loss: 0.1272 - mae: 0.1272\n",
            "Epoch 97/100\n",
            "1/1 [==============================] - 0s 6ms/step - loss: 0.0606 - mae: 0.0606\n",
            "Epoch 98/100\n",
            "1/1 [==============================] - 0s 8ms/step - loss: 0.2674 - mae: 0.2674\n",
            "Epoch 99/100\n",
            "1/1 [==============================] - 0s 9ms/step - loss: 0.2639 - mae: 0.2639\n",
            "Epoch 100/100\n",
            "1/1 [==============================] - 0s 7ms/step - loss: 0.0899 - mae: 0.0899\n"
          ],
          "name": "stdout"
        },
        {
          "output_type": "execute_result",
          "data": {
            "text/plain": [
              "<tensorflow.python.keras.callbacks.History at 0x7f0afe0b8b90>"
            ]
          },
          "metadata": {
            "tags": []
          },
          "execution_count": 20
        }
      ]
    },
    {
      "cell_type": "code",
      "metadata": {
        "colab": {
          "base_uri": "https://localhost:8080/"
        },
        "id": "gy1izNb_w-Rv",
        "outputId": "9874fa74-9955-4613-9e9b-208f4975278b"
      },
      "source": [
        "y_pred = model_lr.predict([17.0])"
      ],
      "execution_count": 21,
      "outputs": [
        {
          "output_type": "stream",
          "text": [
            "WARNING:tensorflow:5 out of the last 5 calls to <function Model.make_predict_function.<locals>.predict_function at 0x7f0afd78ae60> triggered tf.function retracing. Tracing is expensive and the excessive number of tracings could be due to (1) creating @tf.function repeatedly in a loop, (2) passing tensors with different shapes, (3) passing Python objects instead of tensors. For (1), please define your @tf.function outside of the loop. For (2), @tf.function has experimental_relax_shapes=True option that relaxes argument shapes that can avoid unnecessary retracing. For (3), please refer to https://www.tensorflow.org/guide/function#controlling_retracing and https://www.tensorflow.org/api_docs/python/tf/function for  more details.\n"
          ],
          "name": "stdout"
        }
      ]
    },
    {
      "cell_type": "code",
      "metadata": {
        "colab": {
          "base_uri": "https://localhost:8080/"
        },
        "id": "xRXT_T5yxGQr",
        "outputId": "fbb17c43-08c7-41ce-a3ff-78d5652aa000"
      },
      "source": [
        "y_pred"
      ],
      "execution_count": 22,
      "outputs": [
        {
          "output_type": "execute_result",
          "data": {
            "text/plain": [
              "array([[27.325062]], dtype=float32)"
            ]
          },
          "metadata": {
            "tags": []
          },
          "execution_count": 22
        }
      ]
    },
    {
      "cell_type": "markdown",
      "metadata": {
        "id": "gUza-BgLxLRD"
      },
      "source": [
        "#### As seen above, the learning rate is the most important hyperparameter"
      ]
    },
    {
      "cell_type": "markdown",
      "metadata": {
        "id": "ZQK3hFNVxodh"
      },
      "source": [
        "# Evaluation"
      ]
    },
    {
      "cell_type": "code",
      "metadata": {
        "colab": {
          "base_uri": "https://localhost:8080/"
        },
        "id": "GJComoGsxG71",
        "outputId": "4a4a2727-9b63-437d-e174-2b4b51c182b7"
      },
      "source": [
        "# Make a bigger dataset\n",
        "X = tf.range(-100,100,4)\n",
        "X"
      ],
      "execution_count": 23,
      "outputs": [
        {
          "output_type": "execute_result",
          "data": {
            "text/plain": [
              "<tf.Tensor: shape=(50,), dtype=int32, numpy=\n",
              "array([-100,  -96,  -92,  -88,  -84,  -80,  -76,  -72,  -68,  -64,  -60,\n",
              "        -56,  -52,  -48,  -44,  -40,  -36,  -32,  -28,  -24,  -20,  -16,\n",
              "        -12,   -8,   -4,    0,    4,    8,   12,   16,   20,   24,   28,\n",
              "         32,   36,   40,   44,   48,   52,   56,   60,   64,   68,   72,\n",
              "         76,   80,   84,   88,   92,   96], dtype=int32)>"
            ]
          },
          "metadata": {
            "tags": []
          },
          "execution_count": 23
        }
      ]
    },
    {
      "cell_type": "code",
      "metadata": {
        "colab": {
          "base_uri": "https://localhost:8080/"
        },
        "id": "EtvSn3lPzT-2",
        "outputId": "226fa324-07c2-43ab-bd6e-514063f81466"
      },
      "source": [
        "y = X+10\n",
        "y"
      ],
      "execution_count": 24,
      "outputs": [
        {
          "output_type": "execute_result",
          "data": {
            "text/plain": [
              "<tf.Tensor: shape=(50,), dtype=int32, numpy=\n",
              "array([-90, -86, -82, -78, -74, -70, -66, -62, -58, -54, -50, -46, -42,\n",
              "       -38, -34, -30, -26, -22, -18, -14, -10,  -6,  -2,   2,   6,  10,\n",
              "        14,  18,  22,  26,  30,  34,  38,  42,  46,  50,  54,  58,  62,\n",
              "        66,  70,  74,  78,  82,  86,  90,  94,  98, 102, 106], dtype=int32)>"
            ]
          },
          "metadata": {
            "tags": []
          },
          "execution_count": 24
        }
      ]
    },
    {
      "cell_type": "markdown",
      "metadata": {
        "id": "SEZwKCYGzema"
      },
      "source": [
        "### Visualizing the data"
      ]
    },
    {
      "cell_type": "code",
      "metadata": {
        "colab": {
          "base_uri": "https://localhost:8080/",
          "height": 283
        },
        "id": "5Xjq_HylzXHL",
        "outputId": "e8dd9fb7-b633-42eb-ae31-e19bda076796"
      },
      "source": [
        "plt.scatter(X,y)"
      ],
      "execution_count": 25,
      "outputs": [
        {
          "output_type": "execute_result",
          "data": {
            "text/plain": [
              "<matplotlib.collections.PathCollection at 0x7f0afc6fd790>"
            ]
          },
          "metadata": {
            "tags": []
          },
          "execution_count": 25
        },
        {
          "output_type": "display_data",
          "data": {
            "image/png": "[encoded data removed]",
            "text/plain": [
              "<Figure size 432x288 with 1 Axes>"
            ]
          },
          "metadata": {
            "tags": [],
            "needs_background": "light"
          }
        }
      ]
    },
    {
      "cell_type": "markdown",
      "metadata": {
        "id": "rfGzm-ro7xQq"
      },
      "source": [
        "### Split into train and test"
      ]
    },
    {
      "cell_type": "code",
      "metadata": {
        "colab": {
          "base_uri": "https://localhost:8080/"
        },
        "id": "pkkfBn6mzjGP",
        "outputId": "3b70917b-1ee8-4d2a-f915-917f68ee3e6c"
      },
      "source": [
        "len(X)"
      ],
      "execution_count": 26,
      "outputs": [
        {
          "output_type": "execute_result",
          "data": {
            "text/plain": [
              "50"
            ]
          },
          "metadata": {
            "tags": []
          },
          "execution_count": 26
        }
      ]
    },
    {
      "cell_type": "code",
      "metadata": {
        "id": "myYXhdFQ8Scu"
      },
      "source": [
        "X_train = X[:40]   #80% of the data\n",
        "y_train = y[:40]\n",
        "\n",
        "X_test = X[40:]    #20% of the data\n",
        "y_test = y[40:]"
      ],
      "execution_count": 27,
      "outputs": []
    },
    {
      "cell_type": "code",
      "metadata": {
        "colab": {
          "base_uri": "https://localhost:8080/"
        },
        "id": "WqZRk5jZ8rEu",
        "outputId": "408e796e-9501-4afb-e81e-807a7c59883c"
      },
      "source": [
        "X_train, y_train, X_test, y_test"
      ],
      "execution_count": 28,
      "outputs": [
        {
          "output_type": "execute_result",
          "data": {
            "text/plain": [
              "(<tf.Tensor: shape=(40,), dtype=int32, numpy=\n",
              " array([-100,  -96,  -92,  -88,  -84,  -80,  -76,  -72,  -68,  -64,  -60,\n",
              "         -56,  -52,  -48,  -44,  -40,  -36,  -32,  -28,  -24,  -20,  -16,\n",
              "         -12,   -8,   -4,    0,    4,    8,   12,   16,   20,   24,   28,\n",
              "          32,   36,   40,   44,   48,   52,   56], dtype=int32)>,\n",
              " <tf.Tensor: shape=(40,), dtype=int32, numpy=\n",
              " array([-90, -86, -82, -78, -74, -70, -66, -62, -58, -54, -50, -46, -42,\n",
              "        -38, -34, -30, -26, -22, -18, -14, -10,  -6,  -2,   2,   6,  10,\n",
              "         14,  18,  22,  26,  30,  34,  38,  42,  46,  50,  54,  58,  62,\n",
              "         66], dtype=int32)>,\n",
              " <tf.Tensor: shape=(10,), dtype=int32, numpy=array([60, 64, 68, 72, 76, 80, 84, 88, 92, 96], dtype=int32)>,\n",
              " <tf.Tensor: shape=(10,), dtype=int32, numpy=array([ 70,  74,  78,  82,  86,  90,  94,  98, 102, 106], dtype=int32)>)"
            ]
          },
          "metadata": {
            "tags": []
          },
          "execution_count": 28
        }
      ]
    },
    {
      "cell_type": "code",
      "metadata": {
        "colab": {
          "base_uri": "https://localhost:8080/",
          "height": 445
        },
        "id": "Q06G7YYS8yuf",
        "outputId": "b58d3bef-84a6-42b3-d480-8b5143dd5692"
      },
      "source": [
        "plt.figure(figsize = (10,7))\n",
        "\n",
        "plt.scatter(X_train, y_train, c=\"b\", label = \"Training data\")\n",
        "plt.scatter(X_test, y_test, c=\"g\", label = \"Testing data\")\n",
        "plt.legend()"
      ],
      "execution_count": 29,
      "outputs": [
        {
          "output_type": "execute_result",
          "data": {
            "text/plain": [
              "<matplotlib.legend.Legend at 0x7f0afd7b41d0>"
            ]
          },
          "metadata": {
            "tags": []
          },
          "execution_count": 29
        },
        {
          "output_type": "display_data",
          "data": {
            "image/png": "[encoded data removed]",
            "text/plain": [
              "<Figure size 720x504 with 1 Axes>"
            ]
          },
          "metadata": {
            "tags": [],
            "needs_background": "light"
          }
        }
      ]
    },
    {
      "cell_type": "markdown",
      "metadata": {
        "id": "rKnQGyn49ric"
      },
      "source": [
        "### Model"
      ]
    },
    {
      "cell_type": "code",
      "metadata": {
        "id": "z_XBLmyv9B8i"
      },
      "source": [
        "model = tf.keras.Sequential([\n",
        "                             tf.keras.layers.Dense(1, input_shape = [1])\n",
        "])\n",
        "\n",
        "model.compile(loss = tf.keras.losses.mae,\n",
        "              optimizer = tf.keras.optimizers.SGD(),\n",
        "              metrics = [\"mae\"])"
      ],
      "execution_count": 30,
      "outputs": []
    },
    {
      "cell_type": "code",
      "metadata": {
        "colab": {
          "base_uri": "https://localhost:8080/"
        },
        "id": "dsIlyLZJ-JtM",
        "outputId": "4f9c79f3-bc99-49cc-bcc6-21af2f7d1a10"
      },
      "source": [
        "model.summary()"
      ],
      "execution_count": 31,
      "outputs": [
        {
          "output_type": "stream",
          "text": [
            "Model: \"sequential_5\"\n",
            "_________________________________________________________________\n",
            "Layer (type)                 Output Shape              Param #   \n",
            "=================================================================\n",
            "dense_7 (Dense)              (None, 1)                 2         \n",
            "=================================================================\n",
            "Total params: 2\n",
            "Trainable params: 2\n",
            "Non-trainable params: 0\n",
            "_________________________________________________________________\n"
          ],
          "name": "stdout"
        }
      ]
    },
    {
      "cell_type": "code",
      "metadata": {
        "colab": {
          "base_uri": "https://localhost:8080/"
        },
        "id": "QkV8g95b-fcx",
        "outputId": "bf0a24b0-3bb4-4508-bcbd-f0454053efc4"
      },
      "source": [
        "model.fit(X_train, y_train, epochs=100)"
      ],
      "execution_count": 32,
      "outputs": [
        {
          "output_type": "stream",
          "text": [
            "Epoch 1/100\n",
            "2/2 [==============================] - 0s 8ms/step - loss: 90.5424 - mae: 90.5424\n",
            "Epoch 2/100\n",
            "2/2 [==============================] - 0s 14ms/step - loss: 55.0869 - mae: 55.0869\n",
            "Epoch 3/100\n",
            "2/2 [==============================] - 0s 6ms/step - loss: 18.8117 - mae: 18.8117\n",
            "Epoch 4/100\n",
            "2/2 [==============================] - 0s 7ms/step - loss: 10.1430 - mae: 10.1430\n",
            "Epoch 5/100\n",
            "2/2 [==============================] - 0s 7ms/step - loss: 11.1354 - mae: 11.1354\n",
            "Epoch 6/100\n",
            "2/2 [==============================] - 0s 7ms/step - loss: 10.2855 - mae: 10.2855\n",
            "Epoch 7/100\n",
            "2/2 [==============================] - 0s 7ms/step - loss: 9.2888 - mae: 9.2888\n",
            "Epoch 8/100\n",
            "2/2 [==============================] - 0s 7ms/step - loss: 9.2041 - mae: 9.2041\n",
            "Epoch 9/100\n",
            "2/2 [==============================] - 0s 6ms/step - loss: 11.8460 - mae: 11.8460\n",
            "Epoch 10/100\n",
            "2/2 [==============================] - 0s 17ms/step - loss: 13.7814 - mae: 13.7814\n",
            "Epoch 11/100\n",
            "2/2 [==============================] - 0s 7ms/step - loss: 11.8737 - mae: 11.8737\n",
            "Epoch 12/100\n",
            "2/2 [==============================] - 0s 8ms/step - loss: 16.3358 - mae: 16.3358\n",
            "Epoch 13/100\n",
            "2/2 [==============================] - 0s 10ms/step - loss: 11.9005 - mae: 11.9005\n",
            "Epoch 14/100\n",
            "2/2 [==============================] - 0s 6ms/step - loss: 13.8083 - mae: 13.8083\n",
            "Epoch 15/100\n",
            "2/2 [==============================] - 0s 7ms/step - loss: 11.1939 - mae: 11.1939\n",
            "Epoch 16/100\n",
            "2/2 [==============================] - 0s 7ms/step - loss: 8.6319 - mae: 8.6319\n",
            "Epoch 17/100\n",
            "2/2 [==============================] - 0s 14ms/step - loss: 13.8217 - mae: 13.8217\n",
            "Epoch 18/100\n",
            "2/2 [==============================] - 0s 6ms/step - loss: 11.6899 - mae: 11.6899\n",
            "Epoch 19/100\n",
            "2/2 [==============================] - 0s 7ms/step - loss: 17.6896 - mae: 17.6896\n",
            "Epoch 20/100\n",
            "2/2 [==============================] - 0s 7ms/step - loss: 14.8260 - mae: 14.8260\n",
            "Epoch 21/100\n",
            "2/2 [==============================] - 0s 7ms/step - loss: 10.7476 - mae: 10.7476\n",
            "Epoch 22/100\n",
            "2/2 [==============================] - 0s 8ms/step - loss: 8.4853 - mae: 8.4853\n",
            "Epoch 23/100\n",
            "2/2 [==============================] - 0s 7ms/step - loss: 9.8422 - mae: 9.8422\n",
            "Epoch 24/100\n",
            "2/2 [==============================] - 0s 7ms/step - loss: 10.8415 - mae: 10.8415\n",
            "Epoch 25/100\n",
            "2/2 [==============================] - 0s 6ms/step - loss: 9.1293 - mae: 9.1293\n",
            "Epoch 26/100\n",
            "2/2 [==============================] - 0s 11ms/step - loss: 13.0680 - mae: 13.0680\n",
            "Epoch 27/100\n",
            "2/2 [==============================] - 0s 7ms/step - loss: 10.4138 - mae: 10.4138\n",
            "Epoch 28/100\n",
            "2/2 [==============================] - 0s 7ms/step - loss: 13.4086 - mae: 13.4086\n",
            "Epoch 29/100\n",
            "2/2 [==============================] - 0s 7ms/step - loss: 9.6326 - mae: 9.6326\n",
            "Epoch 30/100\n",
            "2/2 [==============================] - 0s 7ms/step - loss: 17.2117 - mae: 17.2117\n",
            "Epoch 31/100\n",
            "2/2 [==============================] - 0s 7ms/step - loss: 22.8706 - mae: 22.8706\n",
            "Epoch 32/100\n",
            "2/2 [==============================] - 0s 9ms/step - loss: 7.9403 - mae: 7.9403\n",
            "Epoch 33/100\n",
            "2/2 [==============================] - 0s 18ms/step - loss: 14.1578 - mae: 14.1578\n",
            "Epoch 34/100\n",
            "2/2 [==============================] - 0s 6ms/step - loss: 12.4064 - mae: 12.4064\n",
            "Epoch 35/100\n",
            "2/2 [==============================] - 0s 8ms/step - loss: 8.2816 - mae: 8.2816\n",
            "Epoch 36/100\n",
            "2/2 [==============================] - 0s 8ms/step - loss: 10.5006 - mae: 10.5006\n",
            "Epoch 37/100\n",
            "2/2 [==============================] - 0s 7ms/step - loss: 10.1465 - mae: 10.1465\n",
            "Epoch 38/100\n",
            "2/2 [==============================] - 0s 5ms/step - loss: 11.3381 - mae: 11.3381\n",
            "Epoch 39/100\n",
            "2/2 [==============================] - 0s 7ms/step - loss: 14.7818 - mae: 14.7818\n",
            "Epoch 40/100\n",
            "2/2 [==============================] - 0s 4ms/step - loss: 12.9119 - mae: 12.9119\n",
            "Epoch 41/100\n",
            "2/2 [==============================] - 0s 6ms/step - loss: 9.3038 - mae: 9.3038\n",
            "Epoch 42/100\n",
            "2/2 [==============================] - 0s 10ms/step - loss: 11.0209 - mae: 11.0209\n",
            "Epoch 43/100\n",
            "2/2 [==============================] - 0s 6ms/step - loss: 8.3553 - mae: 8.3553\n",
            "Epoch 44/100\n",
            "2/2 [==============================] - 0s 6ms/step - loss: 13.0533 - mae: 13.0533\n",
            "Epoch 45/100\n",
            "2/2 [==============================] - 0s 6ms/step - loss: 13.7033 - mae: 13.7033\n",
            "Epoch 46/100\n",
            "2/2 [==============================] - 0s 7ms/step - loss: 8.3147 - mae: 8.3147\n",
            "Epoch 47/100\n",
            "2/2 [==============================] - 0s 7ms/step - loss: 8.7424 - mae: 8.7424\n",
            "Epoch 48/100\n",
            "2/2 [==============================] - 0s 9ms/step - loss: 10.0410 - mae: 10.0410\n",
            "Epoch 49/100\n",
            "2/2 [==============================] - 0s 10ms/step - loss: 8.5270 - mae: 8.5270\n",
            "Epoch 50/100\n",
            "2/2 [==============================] - 0s 5ms/step - loss: 9.0305 - mae: 9.0305\n",
            "Epoch 51/100\n",
            "2/2 [==============================] - 0s 8ms/step - loss: 9.3946 - mae: 9.3946\n",
            "Epoch 52/100\n",
            "2/2 [==============================] - 0s 14ms/step - loss: 14.1665 - mae: 14.1665\n",
            "Epoch 53/100\n",
            "2/2 [==============================] - 0s 7ms/step - loss: 14.9109 - mae: 14.9109\n",
            "Epoch 54/100\n",
            "2/2 [==============================] - 0s 6ms/step - loss: 14.8504 - mae: 14.8504\n",
            "Epoch 55/100\n",
            "2/2 [==============================] - 0s 8ms/step - loss: 12.6347 - mae: 12.6347\n",
            "Epoch 56/100\n",
            "2/2 [==============================] - 0s 7ms/step - loss: 7.6221 - mae: 7.6221\n",
            "Epoch 57/100\n",
            "2/2 [==============================] - 0s 7ms/step - loss: 8.8068 - mae: 8.8068\n",
            "Epoch 58/100\n",
            "2/2 [==============================] - 0s 6ms/step - loss: 8.3971 - mae: 8.3971\n",
            "Epoch 59/100\n",
            "2/2 [==============================] - 0s 7ms/step - loss: 9.1905 - mae: 9.1905\n",
            "Epoch 60/100\n",
            "2/2 [==============================] - 0s 9ms/step - loss: 9.1366 - mae: 9.1366\n",
            "Epoch 61/100\n",
            "2/2 [==============================] - 0s 10ms/step - loss: 10.6724 - mae: 10.6724\n",
            "Epoch 62/100\n",
            "2/2 [==============================] - 0s 6ms/step - loss: 7.4618 - mae: 7.4618\n",
            "Epoch 63/100\n",
            "2/2 [==============================] - 0s 6ms/step - loss: 10.5575 - mae: 10.5575\n",
            "Epoch 64/100\n",
            "2/2 [==============================] - 0s 6ms/step - loss: 12.1660 - mae: 12.1660\n",
            "Epoch 65/100\n",
            "2/2 [==============================] - 0s 7ms/step - loss: 9.4880 - mae: 9.4880\n",
            "Epoch 66/100\n",
            "2/2 [==============================] - 0s 7ms/step - loss: 11.5730 - mae: 11.5730\n",
            "Epoch 67/100\n",
            "2/2 [==============================] - 0s 4ms/step - loss: 8.0413 - mae: 8.0413\n",
            "Epoch 68/100\n",
            "2/2 [==============================] - 0s 4ms/step - loss: 8.5764 - mae: 8.5764\n",
            "Epoch 69/100\n",
            "2/2 [==============================] - 0s 9ms/step - loss: 12.2353 - mae: 12.2353\n",
            "Epoch 70/100\n",
            "2/2 [==============================] - 0s 11ms/step - loss: 8.9584 - mae: 8.9584\n",
            "Epoch 71/100\n",
            "2/2 [==============================] - 0s 7ms/step - loss: 9.9306 - mae: 9.9306\n",
            "Epoch 72/100\n",
            "2/2 [==============================] - 0s 7ms/step - loss: 9.9749 - mae: 9.9749\n",
            "Epoch 73/100\n",
            "2/2 [==============================] - 0s 7ms/step - loss: 12.4195 - mae: 12.4195\n",
            "Epoch 74/100\n",
            "2/2 [==============================] - 0s 6ms/step - loss: 10.6357 - mae: 10.6357\n",
            "Epoch 75/100\n",
            "2/2 [==============================] - 0s 8ms/step - loss: 9.6304 - mae: 9.6304\n",
            "Epoch 76/100\n",
            "2/2 [==============================] - 0s 6ms/step - loss: 11.0892 - mae: 11.0892\n",
            "Epoch 77/100\n",
            "2/2 [==============================] - 0s 7ms/step - loss: 8.2794 - mae: 8.2794\n",
            "Epoch 78/100\n",
            "2/2 [==============================] - 0s 7ms/step - loss: 8.9557 - mae: 8.9557\n",
            "Epoch 79/100\n",
            "2/2 [==============================] - 0s 6ms/step - loss: 19.8636 - mae: 19.8636\n",
            "Epoch 80/100\n",
            "2/2 [==============================] - 0s 9ms/step - loss: 17.7779 - mae: 17.7779\n",
            "Epoch 81/100\n",
            "2/2 [==============================] - 0s 7ms/step - loss: 7.1239 - mae: 7.1239\n",
            "Epoch 82/100\n",
            "2/2 [==============================] - 0s 7ms/step - loss: 10.4046 - mae: 10.4046\n",
            "Epoch 83/100\n",
            "2/2 [==============================] - 0s 6ms/step - loss: 9.8220 - mae: 9.8220\n",
            "Epoch 84/100\n",
            "2/2 [==============================] - 0s 7ms/step - loss: 7.9738 - mae: 7.9738\n",
            "Epoch 85/100\n",
            "2/2 [==============================] - 0s 6ms/step - loss: 9.4916 - mae: 9.4916\n",
            "Epoch 86/100\n",
            "2/2 [==============================] - 0s 7ms/step - loss: 9.5318 - mae: 9.5318\n",
            "Epoch 87/100\n",
            "2/2 [==============================] - 0s 10ms/step - loss: 11.4847 - mae: 11.4847\n",
            "Epoch 88/100\n",
            "2/2 [==============================] - 0s 4ms/step - loss: 9.9850 - mae: 9.9850\n",
            "Epoch 89/100\n",
            "2/2 [==============================] - 0s 9ms/step - loss: 7.2766 - mae: 7.2766\n",
            "Epoch 90/100\n",
            "2/2 [==============================] - 0s 6ms/step - loss: 12.7504 - mae: 12.7504\n",
            "Epoch 91/100\n",
            "2/2 [==============================] - 0s 8ms/step - loss: 7.3469 - mae: 7.3469\n",
            "Epoch 92/100\n",
            "2/2 [==============================] - 0s 6ms/step - loss: 7.7138 - mae: 7.7138\n",
            "Epoch 93/100\n",
            "2/2 [==============================] - 0s 6ms/step - loss: 7.1399 - mae: 7.1399\n",
            "Epoch 94/100\n",
            "2/2 [==============================] - 0s 7ms/step - loss: 12.5949 - mae: 12.5949\n",
            "Epoch 95/100\n",
            "2/2 [==============================] - 0s 6ms/step - loss: 9.9720 - mae: 9.9720\n",
            "Epoch 96/100\n",
            "2/2 [==============================] - 0s 6ms/step - loss: 9.1477 - mae: 9.1477\n",
            "Epoch 97/100\n",
            "2/2 [==============================] - 0s 7ms/step - loss: 12.0696 - mae: 12.0696\n",
            "Epoch 98/100\n",
            "2/2 [==============================] - 0s 6ms/step - loss: 9.1167 - mae: 9.1167\n",
            "Epoch 99/100\n",
            "2/2 [==============================] - 0s 7ms/step - loss: 8.5091 - mae: 8.5091\n",
            "Epoch 100/100\n",
            "2/2 [==============================] - 0s 9ms/step - loss: 14.4262 - mae: 14.4262\n"
          ],
          "name": "stdout"
        },
        {
          "output_type": "execute_result",
          "data": {
            "text/plain": [
              "<tensorflow.python.keras.callbacks.History at 0x7f0afc65acd0>"
            ]
          },
          "metadata": {
            "tags": []
          },
          "execution_count": 32
        }
      ]
    },
    {
      "cell_type": "code",
      "metadata": {
        "colab": {
          "base_uri": "https://localhost:8080/"
        },
        "id": "QopExOVMFxoW",
        "outputId": "3597f053-7a07-4519-e7aa-16d630dc7905"
      },
      "source": [
        "model.summary()"
      ],
      "execution_count": 33,
      "outputs": [
        {
          "output_type": "stream",
          "text": [
            "Model: \"sequential_5\"\n",
            "_________________________________________________________________\n",
            "Layer (type)                 Output Shape              Param #   \n",
            "=================================================================\n",
            "dense_7 (Dense)              (None, 1)                 2         \n",
            "=================================================================\n",
            "Total params: 2\n",
            "Trainable params: 2\n",
            "Non-trainable params: 0\n",
            "_________________________________________________________________\n"
          ],
          "name": "stdout"
        }
      ]
    },
    {
      "cell_type": "code",
      "metadata": {
        "colab": {
          "base_uri": "https://localhost:8080/",
          "height": 201
        },
        "id": "9xaxasXXGCEJ",
        "outputId": "4c9a4c7b-67d6-49b5-b4e2-1a60167b5d67"
      },
      "source": [
        "from tensorflow.keras.utils import plot_model\n",
        "\n",
        "plot_model(model = model, show_shapes = True)"
      ],
      "execution_count": 34,
      "outputs": [
        {
          "output_type": "execute_result",
          "data": {
            "image/png": "[encoded data removed]",
            "text/plain": [
              "<IPython.core.display.Image object>"
            ]
          },
          "metadata": {
            "tags": []
          },
          "execution_count": 34
        }
      ]
    },
    {
      "cell_type": "markdown",
      "metadata": {
        "id": "ve7D4LsOHrIk"
      },
      "source": [
        "### Visualise model predictions"
      ]
    },
    {
      "cell_type": "code",
      "metadata": {
        "colab": {
          "base_uri": "https://localhost:8080/"
        },
        "id": "ng9wpAfiGZmH",
        "outputId": "cc39b39c-5071-4208-c3a2-378e0cfd95b8"
      },
      "source": [
        "y_pred = model.predict(X_test)\n",
        "y_pred"
      ],
      "execution_count": 35,
      "outputs": [
        {
          "output_type": "stream",
          "text": [
            "WARNING:tensorflow:6 out of the last 6 calls to <function Model.make_predict_function.<locals>.predict_function at 0x7f0afc5a5e60> triggered tf.function retracing. Tracing is expensive and the excessive number of tracings could be due to (1) creating @tf.function repeatedly in a loop, (2) passing tensors with different shapes, (3) passing Python objects instead of tensors. For (1), please define your @tf.function outside of the loop. For (2), @tf.function has experimental_relax_shapes=True option that relaxes argument shapes that can avoid unnecessary retracing. For (3), please refer to https://www.tensorflow.org/guide/function#controlling_retracing and https://www.tensorflow.org/api_docs/python/tf/function for  more details.\n"
          ],
          "name": "stdout"
        },
        {
          "output_type": "execute_result",
          "data": {
            "text/plain": [
              "array([[44.323494],\n",
              "       [47.19364 ],\n",
              "       [50.06379 ],\n",
              "       [52.93394 ],\n",
              "       [55.804092],\n",
              "       [58.67424 ],\n",
              "       [61.544388],\n",
              "       [64.41454 ],\n",
              "       [67.28469 ],\n",
              "       [70.15484 ]], dtype=float32)"
            ]
          },
          "metadata": {
            "tags": []
          },
          "execution_count": 35
        }
      ]
    },
    {
      "cell_type": "code",
      "metadata": {
        "colab": {
          "base_uri": "https://localhost:8080/"
        },
        "id": "L92x8-KxH0Nj",
        "outputId": "8e262034-cf8c-47d7-8c92-f5e1fed5b98e"
      },
      "source": [
        "y_test"
      ],
      "execution_count": 36,
      "outputs": [
        {
          "output_type": "execute_result",
          "data": {
            "text/plain": [
              "<tf.Tensor: shape=(10,), dtype=int32, numpy=array([ 70,  74,  78,  82,  86,  90,  94,  98, 102, 106], dtype=int32)>"
            ]
          },
          "metadata": {
            "tags": []
          },
          "execution_count": 36
        }
      ]
    },
    {
      "cell_type": "code",
      "metadata": {
        "id": "v1LwIfO7OJSY"
      },
      "source": [
        "def plot_predictions(train_data,\n",
        "                     train_labels,\n",
        "                     test_data,\n",
        "                     test_labels,\n",
        "                     predictions):\n",
        "  plt.figure(figsize=(10,7))\n",
        "  plt.scatter(train_data, train_labels, c=\"b\", label = \"Training data\")\n",
        "  plt.scatter(test_data, test_labels, c = \"g\", label = \"Testing data\" )\n",
        "  plt.scatter(test_data, predictions, c=\"r\", label = \"Prediction\")\n",
        "  plt.legend()"
      ],
      "execution_count": 37,
      "outputs": []
    },
    {
      "cell_type": "code",
      "metadata": {
        "colab": {
          "base_uri": "https://localhost:8080/",
          "height": 428
        },
        "id": "LIG4ndYLO5tb",
        "outputId": "70dac802-9f89-425a-ed2f-590506c98e36"
      },
      "source": [
        "plot_predictions(X_train, y_train, X_test, y_test, y_pred)"
      ],
      "execution_count": 38,
      "outputs": [
        {
          "output_type": "display_data",
          "data": {
            "image/png": "[encoded data removed]",
            "text/plain": [
              "<Figure size 720x504 with 1 Axes>"
            ]
          },
          "metadata": {
            "tags": [],
            "needs_background": "light"
          }
        }
      ]
    },
    {
      "cell_type": "code",
      "metadata": {
        "id": "BgLroJ1XO-Ml"
      },
      "source": [
        "model_improved = tf.keras.Sequential([\n",
        "                                      tf.keras.layers.Dense(100, activation=\"relu\", input_shape = [1], name=\"input_layer\"),\n",
        "                             tf.keras.layers.Dense(1, name=\"output_layer\")\n",
        "])\n",
        "\n",
        "model_improved.compile(loss = tf.keras.losses.mae,\n",
        "              optimizer = tf.keras.optimizers.Adam(learning_rate = 0.01),\n",
        "              metrics = [\"mae\"])"
      ],
      "execution_count": 39,
      "outputs": []
    },
    {
      "cell_type": "code",
      "metadata": {
        "colab": {
          "base_uri": "https://localhost:8080/"
        },
        "id": "wnfFN70cPx-b",
        "outputId": "88029abb-b158-46ac-caf7-83791e5c6f41"
      },
      "source": [
        "model_improved.summary()"
      ],
      "execution_count": 40,
      "outputs": [
        {
          "output_type": "stream",
          "text": [
            "Model: \"sequential_6\"\n",
            "_________________________________________________________________\n",
            "Layer (type)                 Output Shape              Param #   \n",
            "=================================================================\n",
            "input_layer (Dense)          (None, 100)               200       \n",
            "_________________________________________________________________\n",
            "output_layer (Dense)         (None, 1)                 101       \n",
            "=================================================================\n",
            "Total params: 301\n",
            "Trainable params: 301\n",
            "Non-trainable params: 0\n",
            "_________________________________________________________________\n"
          ],
          "name": "stdout"
        }
      ]
    },
    {
      "cell_type": "code",
      "metadata": {
        "colab": {
          "base_uri": "https://localhost:8080/"
        },
        "id": "__NBub3pQgM4",
        "outputId": "703f55d8-ecbc-4c5a-a66b-c27b2c970f0c"
      },
      "source": [
        "model_improved.fit(X_train, y_train, epochs = 100)"
      ],
      "execution_count": 41,
      "outputs": [
        {
          "output_type": "stream",
          "text": [
            "Epoch 1/100\n",
            "2/2 [==============================] - 0s 9ms/step - loss: 39.5371 - mae: 39.5371\n",
            "Epoch 2/100\n",
            "2/2 [==============================] - 0s 7ms/step - loss: 29.2236 - mae: 29.2236\n",
            "Epoch 3/100\n",
            "2/2 [==============================] - 0s 6ms/step - loss: 19.5002 - mae: 19.5002\n",
            "Epoch 4/100\n",
            "2/2 [==============================] - 0s 6ms/step - loss: 9.8831 - mae: 9.8831\n",
            "Epoch 5/100\n",
            "2/2 [==============================] - 0s 6ms/step - loss: 5.1506 - mae: 5.1506\n",
            "Epoch 6/100\n",
            "2/2 [==============================] - 0s 7ms/step - loss: 8.9656 - mae: 8.9656\n",
            "Epoch 7/100\n",
            "2/2 [==============================] - 0s 14ms/step - loss: 9.0302 - mae: 9.0302\n",
            "Epoch 8/100\n",
            "2/2 [==============================] - 0s 7ms/step - loss: 6.3956 - mae: 6.3956\n",
            "Epoch 9/100\n",
            "2/2 [==============================] - 0s 6ms/step - loss: 4.9204 - mae: 4.9204\n",
            "Epoch 10/100\n",
            "2/2 [==============================] - 0s 7ms/step - loss: 4.9731 - mae: 4.9731\n",
            "Epoch 11/100\n",
            "2/2 [==============================] - 0s 7ms/step - loss: 5.0984 - mae: 5.0984\n",
            "Epoch 12/100\n",
            "2/2 [==============================] - 0s 7ms/step - loss: 5.1258 - mae: 5.1258\n",
            "Epoch 13/100\n",
            "2/2 [==============================] - 0s 9ms/step - loss: 4.4852 - mae: 4.4852\n",
            "Epoch 14/100\n",
            "2/2 [==============================] - 0s 8ms/step - loss: 4.6188 - mae: 4.6188\n",
            "Epoch 15/100\n",
            "2/2 [==============================] - 0s 7ms/step - loss: 4.2590 - mae: 4.2590\n",
            "Epoch 16/100\n",
            "2/2 [==============================] - 0s 7ms/step - loss: 4.1310 - mae: 4.1310\n",
            "Epoch 17/100\n",
            "2/2 [==============================] - 0s 7ms/step - loss: 4.3383 - mae: 4.3383\n",
            "Epoch 18/100\n",
            "2/2 [==============================] - 0s 7ms/step - loss: 4.4236 - mae: 4.4236\n",
            "Epoch 19/100\n",
            "2/2 [==============================] - 0s 10ms/step - loss: 4.5821 - mae: 4.5821\n",
            "Epoch 20/100\n",
            "2/2 [==============================] - 0s 7ms/step - loss: 4.3919 - mae: 4.3919\n",
            "Epoch 21/100\n",
            "2/2 [==============================] - 0s 5ms/step - loss: 4.1554 - mae: 4.1554\n",
            "Epoch 22/100\n",
            "2/2 [==============================] - 0s 5ms/step - loss: 3.9214 - mae: 3.9214\n",
            "Epoch 23/100\n",
            "2/2 [==============================] - 0s 7ms/step - loss: 4.0731 - mae: 4.0731\n",
            "Epoch 24/100\n",
            "2/2 [==============================] - 0s 8ms/step - loss: 4.3457 - mae: 4.3457\n",
            "Epoch 25/100\n",
            "2/2 [==============================] - 0s 9ms/step - loss: 4.1925 - mae: 4.1925\n",
            "Epoch 26/100\n",
            "2/2 [==============================] - 0s 9ms/step - loss: 3.9901 - mae: 3.9901\n",
            "Epoch 27/100\n",
            "2/2 [==============================] - 0s 9ms/step - loss: 3.9808 - mae: 3.9808\n",
            "Epoch 28/100\n",
            "2/2 [==============================] - 0s 8ms/step - loss: 3.6239 - mae: 3.6239\n",
            "Epoch 29/100\n",
            "2/2 [==============================] - 0s 8ms/step - loss: 4.1320 - mae: 4.1320\n",
            "Epoch 30/100\n",
            "2/2 [==============================] - 0s 8ms/step - loss: 3.8360 - mae: 3.8360\n",
            "Epoch 31/100\n",
            "2/2 [==============================] - 0s 11ms/step - loss: 3.6651 - mae: 3.6651\n",
            "Epoch 32/100\n",
            "2/2 [==============================] - 0s 10ms/step - loss: 4.3185 - mae: 4.3185\n",
            "Epoch 33/100\n",
            "2/2 [==============================] - 0s 10ms/step - loss: 3.7896 - mae: 3.7896\n",
            "Epoch 34/100\n",
            "2/2 [==============================] - 0s 9ms/step - loss: 3.6525 - mae: 3.6525\n",
            "Epoch 35/100\n",
            "2/2 [==============================] - 0s 8ms/step - loss: 3.9203 - mae: 3.9203\n",
            "Epoch 36/100\n",
            "2/2 [==============================] - 0s 8ms/step - loss: 3.7573 - mae: 3.7573\n",
            "Epoch 37/100\n",
            "2/2 [==============================] - 0s 7ms/step - loss: 3.4416 - mae: 3.4416\n",
            "Epoch 38/100\n",
            "2/2 [==============================] - 0s 10ms/step - loss: 3.2559 - mae: 3.2559\n",
            "Epoch 39/100\n",
            "2/2 [==============================] - 0s 8ms/step - loss: 3.4323 - mae: 3.4323\n",
            "Epoch 40/100\n",
            "2/2 [==============================] - 0s 11ms/step - loss: 3.3255 - mae: 3.3255\n",
            "Epoch 41/100\n",
            "2/2 [==============================] - 0s 7ms/step - loss: 3.4841 - mae: 3.4841\n",
            "Epoch 42/100\n",
            "2/2 [==============================] - 0s 9ms/step - loss: 3.4194 - mae: 3.4194\n",
            "Epoch 43/100\n",
            "2/2 [==============================] - 0s 15ms/step - loss: 3.0786 - mae: 3.0786\n",
            "Epoch 44/100\n",
            "2/2 [==============================] - 0s 10ms/step - loss: 3.1891 - mae: 3.1891\n",
            "Epoch 45/100\n",
            "2/2 [==============================] - 0s 7ms/step - loss: 2.9342 - mae: 2.9342\n",
            "Epoch 46/100\n",
            "2/2 [==============================] - 0s 14ms/step - loss: 2.9990 - mae: 2.9990\n",
            "Epoch 47/100\n",
            "2/2 [==============================] - 0s 7ms/step - loss: 3.2589 - mae: 3.2589\n",
            "Epoch 48/100\n",
            "2/2 [==============================] - 0s 8ms/step - loss: 3.1522 - mae: 3.1522\n",
            "Epoch 49/100\n",
            "2/2 [==============================] - 0s 6ms/step - loss: 2.8644 - mae: 2.8644\n",
            "Epoch 50/100\n",
            "2/2 [==============================] - 0s 7ms/step - loss: 2.8842 - mae: 2.8842\n",
            "Epoch 51/100\n",
            "2/2 [==============================] - 0s 4ms/step - loss: 2.7694 - mae: 2.7694\n",
            "Epoch 52/100\n",
            "2/2 [==============================] - 0s 6ms/step - loss: 2.6845 - mae: 2.6845\n",
            "Epoch 53/100\n",
            "2/2 [==============================] - 0s 6ms/step - loss: 2.9462 - mae: 2.9462\n",
            "Epoch 54/100\n",
            "2/2 [==============================] - 0s 8ms/step - loss: 3.1016 - mae: 3.1016\n",
            "Epoch 55/100\n",
            "2/2 [==============================] - 0s 16ms/step - loss: 3.0729 - mae: 3.0729\n",
            "Epoch 56/100\n",
            "2/2 [==============================] - 0s 10ms/step - loss: 2.6008 - mae: 2.6008\n",
            "Epoch 57/100\n",
            "2/2 [==============================] - 0s 7ms/step - loss: 2.8101 - mae: 2.8101\n",
            "Epoch 58/100\n",
            "2/2 [==============================] - 0s 7ms/step - loss: 2.7785 - mae: 2.7785\n",
            "Epoch 59/100\n",
            "2/2 [==============================] - 0s 7ms/step - loss: 2.3411 - mae: 2.3411\n",
            "Epoch 60/100\n",
            "2/2 [==============================] - 0s 6ms/step - loss: 2.4930 - mae: 2.4930\n",
            "Epoch 61/100\n",
            "2/2 [==============================] - 0s 13ms/step - loss: 2.4637 - mae: 2.4637\n",
            "Epoch 62/100\n",
            "2/2 [==============================] - 0s 6ms/step - loss: 2.2236 - mae: 2.2236\n",
            "Epoch 63/100\n",
            "2/2 [==============================] - 0s 9ms/step - loss: 2.0977 - mae: 2.0977\n",
            "Epoch 64/100\n",
            "2/2 [==============================] - 0s 9ms/step - loss: 2.3331 - mae: 2.3331\n",
            "Epoch 65/100\n",
            "2/2 [==============================] - 0s 10ms/step - loss: 1.8890 - mae: 1.8890\n",
            "Epoch 66/100\n",
            "2/2 [==============================] - 0s 7ms/step - loss: 2.1653 - mae: 2.1653\n",
            "Epoch 67/100\n",
            "2/2 [==============================] - 0s 6ms/step - loss: 2.1630 - mae: 2.1630\n",
            "Epoch 68/100\n",
            "2/2 [==============================] - 0s 7ms/step - loss: 1.8284 - mae: 1.8284\n",
            "Epoch 69/100\n",
            "2/2 [==============================] - 0s 7ms/step - loss: 1.7402 - mae: 1.7402\n",
            "Epoch 70/100\n",
            "2/2 [==============================] - 0s 6ms/step - loss: 1.6031 - mae: 1.6031\n",
            "Epoch 71/100\n",
            "2/2 [==============================] - 0s 7ms/step - loss: 1.6029 - mae: 1.6029\n",
            "Epoch 72/100\n",
            "2/2 [==============================] - 0s 6ms/step - loss: 1.2749 - mae: 1.2749\n",
            "Epoch 73/100\n",
            "2/2 [==============================] - 0s 7ms/step - loss: 1.3753 - mae: 1.3753\n",
            "Epoch 74/100\n",
            "2/2 [==============================] - 0s 7ms/step - loss: 1.3286 - mae: 1.3286\n",
            "Epoch 75/100\n",
            "2/2 [==============================] - 0s 6ms/step - loss: 1.7306 - mae: 1.7306\n",
            "Epoch 76/100\n",
            "2/2 [==============================] - 0s 7ms/step - loss: 1.1398 - mae: 1.1398\n",
            "Epoch 77/100\n",
            "2/2 [==============================] - 0s 6ms/step - loss: 2.2922 - mae: 2.2922\n",
            "Epoch 78/100\n",
            "2/2 [==============================] - 0s 6ms/step - loss: 1.8165 - mae: 1.8165\n",
            "Epoch 79/100\n",
            "2/2 [==============================] - 0s 8ms/step - loss: 2.3639 - mae: 2.3639\n",
            "Epoch 80/100\n",
            "2/2 [==============================] - 0s 8ms/step - loss: 3.1303 - mae: 3.1303\n",
            "Epoch 81/100\n",
            "2/2 [==============================] - 0s 9ms/step - loss: 1.3173 - mae: 1.3173\n",
            "Epoch 82/100\n",
            "2/2 [==============================] - 0s 6ms/step - loss: 3.1936 - mae: 3.1936\n",
            "Epoch 83/100\n",
            "2/2 [==============================] - 0s 5ms/step - loss: 3.6465 - mae: 3.6465\n",
            "Epoch 84/100\n",
            "2/2 [==============================] - 0s 6ms/step - loss: 1.5764 - mae: 1.5764\n",
            "Epoch 85/100\n",
            "2/2 [==============================] - 0s 6ms/step - loss: 1.2456 - mae: 1.2456\n",
            "Epoch 86/100\n",
            "2/2 [==============================] - 0s 5ms/step - loss: 0.9742 - mae: 0.9742\n",
            "Epoch 87/100\n",
            "2/2 [==============================] - 0s 5ms/step - loss: 0.4327 - mae: 0.4327\n",
            "Epoch 88/100\n",
            "2/2 [==============================] - 0s 5ms/step - loss: 0.8573 - mae: 0.8573\n",
            "Epoch 89/100\n",
            "2/2 [==============================] - 0s 5ms/step - loss: 0.4344 - mae: 0.4344\n",
            "Epoch 90/100\n",
            "2/2 [==============================] - 0s 8ms/step - loss: 0.9706 - mae: 0.9706\n",
            "Epoch 91/100\n",
            "2/2 [==============================] - 0s 7ms/step - loss: 0.5613 - mae: 0.5613\n",
            "Epoch 92/100\n",
            "2/2 [==============================] - 0s 6ms/step - loss: 0.6639 - mae: 0.6639\n",
            "Epoch 93/100\n",
            "2/2 [==============================] - 0s 8ms/step - loss: 0.3250 - mae: 0.3250\n",
            "Epoch 94/100\n",
            "2/2 [==============================] - 0s 8ms/step - loss: 0.2534 - mae: 0.2534\n",
            "Epoch 95/100\n",
            "2/2 [==============================] - 0s 6ms/step - loss: 0.8084 - mae: 0.8084\n",
            "Epoch 96/100\n",
            "2/2 [==============================] - 0s 9ms/step - loss: 0.3582 - mae: 0.3582\n",
            "Epoch 97/100\n",
            "2/2 [==============================] - 0s 8ms/step - loss: 0.8452 - mae: 0.8452\n",
            "Epoch 98/100\n",
            "2/2 [==============================] - 0s 6ms/step - loss: 0.8761 - mae: 0.8761\n",
            "Epoch 99/100\n",
            "2/2 [==============================] - 0s 6ms/step - loss: 0.5634 - mae: 0.5634\n",
            "Epoch 100/100\n",
            "2/2 [==============================] - 0s 7ms/step - loss: 0.3989 - mae: 0.3989\n"
          ],
          "name": "stdout"
        },
        {
          "output_type": "execute_result",
          "data": {
            "text/plain": [
              "<tensorflow.python.keras.callbacks.History at 0x7f0afbce6090>"
            ]
          },
          "metadata": {
            "tags": []
          },
          "execution_count": 41
        }
      ]
    },
    {
      "cell_type": "code",
      "metadata": {
        "colab": {
          "base_uri": "https://localhost:8080/",
          "height": 312
        },
        "id": "uJBXOKhVQtkD",
        "outputId": "9b406946-887f-47a7-d81c-8012627ccf3f"
      },
      "source": [
        "plot_model(model = model_improved, show_shapes = True)"
      ],
      "execution_count": 42,
      "outputs": [
        {
          "output_type": "execute_result",
          "data": {
            "image/png": "[encoded data removed]",
            "text/plain": [
              "<IPython.core.display.Image object>"
            ]
          },
          "metadata": {
            "tags": []
          },
          "execution_count": 42
        }
      ]
    },
    {
      "cell_type": "code",
      "metadata": {
        "id": "2BcGBnyuQxPc"
      },
      "source": [
        "y_pred_new = model_improved.predict(X_test)"
      ],
      "execution_count": 43,
      "outputs": []
    },
    {
      "cell_type": "code",
      "metadata": {
        "colab": {
          "base_uri": "https://localhost:8080/"
        },
        "id": "efk36BsbRBoj",
        "outputId": "da26bee5-6442-4688-9d9c-bbf958c22204"
      },
      "source": [
        "y_pred_new"
      ],
      "execution_count": 44,
      "outputs": [
        {
          "output_type": "execute_result",
          "data": {
            "text/plain": [
              "array([[ 68.73923 ],\n",
              "       [ 72.66539 ],\n",
              "       [ 76.59155 ],\n",
              "       [ 80.517715],\n",
              "       [ 84.44388 ],\n",
              "       [ 88.370056],\n",
              "       [ 92.3084  ],\n",
              "       [ 96.24851 ],\n",
              "       [100.18863 ],\n",
              "       [104.12873 ]], dtype=float32)"
            ]
          },
          "metadata": {
            "tags": []
          },
          "execution_count": 44
        }
      ]
    },
    {
      "cell_type": "code",
      "metadata": {
        "colab": {
          "base_uri": "https://localhost:8080/",
          "height": 428
        },
        "id": "GLIrCy9YRCyH",
        "outputId": "53216714-afac-42e7-cdb0-beebe06b16fe"
      },
      "source": [
        "plot_predictions(X_train, y_train, X_test, y_test, y_pred_new)"
      ],
      "execution_count": 45,
      "outputs": [
        {
          "output_type": "display_data",
          "data": {
            "image/png": "[encoded data removed]",
            "text/plain": [
              "<Figure size 720x504 with 1 Axes>"
            ]
          },
          "metadata": {
            "tags": [],
            "needs_background": "light"
          }
        }
      ]
    },
    {
      "cell_type": "markdown",
      "metadata": {
        "id": "RB-BWH8SSIiy"
      },
      "source": [
        "# Evaluation metrics\n",
        "\n",
        "## Regression\n",
        "\n",
        "* MAE: Mean absolute error\n",
        "* MSE: Mean Squared error\n",
        "* RMSE: Root Mean Squared Error\n",
        "* RMSLE: Root mean Squared Log Error\n",
        "* R2: R Squared\n",
        "* Adjusted R squared\n"
      ]
    },
    {
      "cell_type": "code",
      "metadata": {
        "colab": {
          "base_uri": "https://localhost:8080/"
        },
        "id": "Hb1nmc3HRFyD",
        "outputId": "8747f449-0366-4847-e40e-b205f89fb0f7"
      },
      "source": [
        "model_improved.evaluate(X_test, y_test)"
      ],
      "execution_count": 46,
      "outputs": [
        {
          "output_type": "stream",
          "text": [
            "1/1 [==============================] - 0s 141ms/step - loss: 1.5798 - mae: 1.5798\n"
          ],
          "name": "stdout"
        },
        {
          "output_type": "execute_result",
          "data": {
            "text/plain": [
              "[1.579790472984314, 1.579790472984314]"
            ]
          },
          "metadata": {
            "tags": []
          },
          "execution_count": 46
        }
      ]
    },
    {
      "cell_type": "code",
      "metadata": {
        "id": "_haaGnj5TJkk"
      },
      "source": [
        ""
      ],
      "execution_count": null,
      "outputs": []
    }
  ]
}
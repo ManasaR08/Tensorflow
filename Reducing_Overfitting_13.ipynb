{
  "nbformat": 4,
  "nbformat_minor": 0,
  "metadata": {
    "colab": {
      "name": "Reducing_Overfitting_13.ipynb",
      "provenance": [],
      "authorship_tag": "ABX9TyMIvwFc2czLkBQ0FP3HO/wm",
      "include_colab_link": true
    },
    "kernelspec": {
      "name": "python3",
      "display_name": "Python 3"
    },
    "language_info": {
      "name": "python"
    },
    "accelerator": "GPU"
  },
  "cells": [
    {
      "cell_type": "markdown",
      "metadata": {
        "id": "view-in-github",
        "colab_type": "text"
      },
      "source": [
        "<a href=\"https://colab.research.google.com/github/ManasaR08/Tensorflow/blob/main/Reducing_Overfitting_13.ipynb\" target=\"_parent\"><img src=\"https://colab.research.google.com/assets/colab-badge.svg\" alt=\"Open In Colab\"/></a>"
      ]
    },
    {
      "cell_type": "markdown",
      "metadata": {
        "id": "g_x_0or66Sqo"
      },
      "source": [
        "## Reducing Overfitting (Regularization)\n",
        "\n",
        "* Add data augmentation\n",
        "* Add regularization layers (MaxPool2D)\n",
        "* Add more data"
      ]
    },
    {
      "cell_type": "markdown",
      "metadata": {
        "id": "v6KxepfpakqK"
      },
      "source": [
        "### MaxPool Layer"
      ]
    },
    {
      "cell_type": "code",
      "metadata": {
        "colab": {
          "base_uri": "https://localhost:8080/"
        },
        "id": "jE8ipSbr6R1s",
        "outputId": "0be34742-1317-45bc-d055-8ad8f9f53fd5"
      },
      "source": [
        "from google.colab import drive\n",
        "drive.mount('/content/gdrive')"
      ],
      "execution_count": null,
      "outputs": [
        {
          "output_type": "stream",
          "text": [
            "Mounted at /content/gdrive\n"
          ],
          "name": "stdout"
        }
      ]
    },
    {
      "cell_type": "code",
      "metadata": {
        "colab": {
          "base_uri": "https://localhost:8080/"
        },
        "id": "5Li2xEly7ExT",
        "outputId": "82fc648e-1dbe-413e-a0bd-51c1c629d067"
      },
      "source": [
        "%cd /content/gdrive/My\\ Drive/Food101"
      ],
      "execution_count": null,
      "outputs": [
        {
          "output_type": "stream",
          "text": [
            "/content/gdrive/My Drive/Food101\n"
          ],
          "name": "stdout"
        }
      ]
    },
    {
      "cell_type": "code",
      "metadata": {
        "colab": {
          "base_uri": "https://localhost:8080/"
        },
        "id": "0TRKKKls7L-c",
        "outputId": "60e356eb-5725-4742-bc36-14ebce91d59d"
      },
      "source": [
        "%cd data_experiment"
      ],
      "execution_count": null,
      "outputs": [
        {
          "output_type": "stream",
          "text": [
            "/content/gdrive/My Drive/Food101/data_experiment\n"
          ],
          "name": "stdout"
        }
      ]
    },
    {
      "cell_type": "code",
      "metadata": {
        "colab": {
          "base_uri": "https://localhost:8080/"
        },
        "id": "7jleD7uR7OCa",
        "outputId": "b9ed4c87-0f66-4a11-c698-99b7a43ba6a4"
      },
      "source": [
        "%cd train"
      ],
      "execution_count": null,
      "outputs": [
        {
          "output_type": "stream",
          "text": [
            "/content/gdrive/My Drive/Food101/data_experiment/train\n"
          ],
          "name": "stdout"
        }
      ]
    },
    {
      "cell_type": "code",
      "metadata": {
        "colab": {
          "base_uri": "https://localhost:8080/"
        },
        "id": "zy4c-o2F7ScN",
        "outputId": "26c9ae58-65bc-4364-cca1-245adf41f3d9"
      },
      "source": [
        "import tensorflow as tf\n",
        "from tensorflow.keras.preprocessing.image import ImageDataGenerator\n",
        "\n",
        "tf.random.set_seed(42)\n",
        "\n",
        "train_datagen = ImageDataGenerator(rescale=1./255)\n",
        "valid_datagen = ImageDataGenerator(rescale=1./255)\n",
        "\n",
        "train_dir = \"/content/gdrive/My Drive/Food101/data_experiment/train/\"\n",
        "test_dir = \"/content/gdrive/My Drive/Food101/data_experiment/val/\"\n",
        "\n",
        "train_data = train_datagen.flow_from_directory(directory=train_dir,\n",
        "                                               batch_size=32,\n",
        "                                               target_size=(224,224),\n",
        "                                               class_mode=\"binary\",\n",
        "                                               seed=42)\n",
        "valid_data = valid_datagen.flow_from_directory(test_dir,\n",
        "                                               batch_size=32,\n",
        "                                               target_size=(224,224),\n",
        "                                               class_mode=\"binary\",\n",
        "                                               seed=42)"
      ],
      "execution_count": null,
      "outputs": [
        {
          "output_type": "stream",
          "text": [
            "Found 1600 images belonging to 2 classes.\n",
            "Found 400 images belonging to 2 classes.\n"
          ],
          "name": "stdout"
        }
      ]
    },
    {
      "cell_type": "code",
      "metadata": {
        "id": "ODYqrlpQ7beR"
      },
      "source": [
        "from keras.models import Sequential\n",
        "from keras.layers import Conv2D, MaxPool2D, Flatten, Dense\n",
        "model_2 = Sequential([\n",
        "                      Conv2D(10, 3, activation=\"relu\", input_shape=(224,224,3)),\n",
        "                      MaxPool2D(pool_size=2),\n",
        "                      Conv2D(10, 3, activation=\"relu\"),\n",
        "                      MaxPool2D(),\n",
        "                      Conv2D(10, 3, activation=\"relu\"),\n",
        "                      MaxPool2D(),\n",
        "                      Flatten(),\n",
        "                      Dense(1, activation=\"sigmoid\")\n",
        "                      ])"
      ],
      "execution_count": null,
      "outputs": []
    },
    {
      "cell_type": "code",
      "metadata": {
        "id": "r2mgGSGr8PN8"
      },
      "source": [
        "from keras.optimizers import Adam\n",
        "model_2.compile(loss=\"binary_crossentropy\",\n",
        "                optimizer = Adam(),\n",
        "                metrics=[\"accuracy\"])"
      ],
      "execution_count": null,
      "outputs": []
    },
    {
      "cell_type": "code",
      "metadata": {
        "colab": {
          "base_uri": "https://localhost:8080/"
        },
        "id": "yop3ORVA9XEI",
        "outputId": "e19e6111-a587-40cc-c4a6-1ce08928d41b"
      },
      "source": [
        "history_2 = model_2.fit(train_data,\n",
        "                        epochs=5,\n",
        "                        steps_per_epoch=len(train_data),\n",
        "                        validation_data=valid_data,\n",
        "                        validation_steps=len(valid_data))"
      ],
      "execution_count": null,
      "outputs": [
        {
          "output_type": "stream",
          "text": [
            "Epoch 1/5\n",
            "50/50 [==============================] - 1260s 25s/step - loss: 0.6531 - accuracy: 0.5942 - val_loss: 0.4760 - val_accuracy: 0.7850\n",
            "Epoch 2/5\n",
            "50/50 [==============================] - 13s 267ms/step - loss: 0.4958 - accuracy: 0.7658 - val_loss: 0.4384 - val_accuracy: 0.8175\n",
            "Epoch 3/5\n",
            "50/50 [==============================] - 13s 266ms/step - loss: 0.4333 - accuracy: 0.8038 - val_loss: 0.4186 - val_accuracy: 0.8100\n",
            "Epoch 4/5\n",
            "50/50 [==============================] - 13s 270ms/step - loss: 0.3867 - accuracy: 0.8335 - val_loss: 0.4348 - val_accuracy: 0.8075\n",
            "Epoch 5/5\n",
            "50/50 [==============================] - 13s 268ms/step - loss: 0.3433 - accuracy: 0.8638 - val_loss: 0.3692 - val_accuracy: 0.8450\n"
          ],
          "name": "stdout"
        }
      ]
    },
    {
      "cell_type": "code",
      "metadata": {
        "colab": {
          "base_uri": "https://localhost:8080/"
        },
        "id": "OH5F_vXE94ia",
        "outputId": "814aa0ec-ed08-49e7-fab7-9bd563f82efd"
      },
      "source": [
        "model_2.summary()"
      ],
      "execution_count": null,
      "outputs": [
        {
          "output_type": "stream",
          "text": [
            "Model: \"sequential\"\n",
            "_________________________________________________________________\n",
            "Layer (type)                 Output Shape              Param #   \n",
            "=================================================================\n",
            "conv2d (Conv2D)              (None, 222, 222, 10)      280       \n",
            "_________________________________________________________________\n",
            "max_pooling2d (MaxPooling2D) (None, 111, 111, 10)      0         \n",
            "_________________________________________________________________\n",
            "conv2d_1 (Conv2D)            (None, 109, 109, 10)      910       \n",
            "_________________________________________________________________\n",
            "max_pooling2d_1 (MaxPooling2 (None, 54, 54, 10)        0         \n",
            "_________________________________________________________________\n",
            "conv2d_2 (Conv2D)            (None, 52, 52, 10)        910       \n",
            "_________________________________________________________________\n",
            "max_pooling2d_2 (MaxPooling2 (None, 26, 26, 10)        0         \n",
            "_________________________________________________________________\n",
            "flatten (Flatten)            (None, 6760)              0         \n",
            "_________________________________________________________________\n",
            "dense (Dense)                (None, 1)                 6761      \n",
            "=================================================================\n",
            "Total params: 8,861\n",
            "Trainable params: 8,861\n",
            "Non-trainable params: 0\n",
            "_________________________________________________________________\n"
          ],
          "name": "stdout"
        }
      ]
    },
    {
      "cell_type": "markdown",
      "metadata": {
        "id": "_rhb5FqdaDTR"
      },
      "source": [
        "#### The number of parameters have drastically reduced."
      ]
    },
    {
      "cell_type": "code",
      "metadata": {
        "id": "Bl1A5XVPZ3wU"
      },
      "source": [
        "import matplotlib.pyplot as plt\n",
        "def plot_loss_curves(history):\n",
        "  loss = history.history[\"loss\"]\n",
        "  val_loss = history.history[\"val_loss\"]\n",
        "\n",
        "  accuracy = history.history[\"accuracy\"]\n",
        "  val_accuracy = history.history[\"val_accuracy\"]\n",
        "\n",
        "  epochs = range(len(history.history[\"loss\"]))\n",
        "\n",
        "  plt.plot(epochs, loss, label=\"training_loss\")\n",
        "  plt.plot(epochs, val_loss, label=\"val_loss\")\n",
        "  plt.title(\"Loss\")\n",
        "  plt.xlabel(\"epochs\")\n",
        "  plt.legend()\n",
        "\n",
        "  plt.figure()\n",
        "  plt.plot(epochs, accuracy, label=\"accuravy\")\n",
        "  plt.plot(epochs, val_accuracy, label=\"val_accuracy\")\n",
        "  plt.title(\"Accuracy\")\n",
        "  plt.xlabel(\"epochs\")\n",
        "  plt.legend()\n"
      ],
      "execution_count": null,
      "outputs": []
    },
    {
      "cell_type": "code",
      "metadata": {
        "colab": {
          "base_uri": "https://localhost:8080/",
          "height": 573
        },
        "id": "g3HPProOaLcv",
        "outputId": "74b204a4-8589-43e0-f809-d790b2f3c60f"
      },
      "source": [
        "plot_loss_curves(history_2)"
      ],
      "execution_count": null,
      "outputs": [
        {
          "output_type": "display_data",
          "data": {
            "image/png": "[encoded data removed]",
            "text/plain": [
              "<Figure size 432x288 with 1 Axes>"
            ]
          },
          "metadata": {
            "tags": [],
            "needs_background": "light"
          }
        },
        {
          "output_type": "display_data",
          "data": {
            "image/png": "[encoded data removed]",
            "text/plain": [
              "<Figure size 432x288 with 1 Axes>"
            ]
          },
          "metadata": {
            "tags": [],
            "needs_background": "light"
          }
        }
      ]
    },
    {
      "cell_type": "markdown",
      "metadata": {
        "id": "4qve6xPEaewO"
      },
      "source": [
        "The val_loss curve is better than before"
      ]
    },
    {
      "cell_type": "markdown",
      "metadata": {
        "id": "O1hgjf37auvZ"
      },
      "source": [
        "### Data Augmentation"
      ]
    },
    {
      "cell_type": "code",
      "metadata": {
        "id": "KgWnaeNtaPBv"
      },
      "source": [
        "train_datagen_augmented = ImageDataGenerator(rescale=1/255.,\n",
        "                                             rotation_range=0.2,\n",
        "                                             shear_range=0.2,\n",
        "                                             zoom_range=0.2,\n",
        "                                             width_shift_range=0.2,\n",
        "                                             height_shift_range=0.3,\n",
        "                                             horizontal_flip=True)"
      ],
      "execution_count": null,
      "outputs": []
    },
    {
      "cell_type": "code",
      "metadata": {
        "id": "KMvRdKKqbSiS"
      },
      "source": [
        "model_3 = Sequential([\n",
        "                      Conv2D(10, 3, activation=\"relu\", input_shape=(224,224,3)),\n",
        "                      MaxPool2D(pool_size=2),\n",
        "                      Conv2D(10, 3, activation=\"relu\"),\n",
        "                      MaxPool2D(),\n",
        "                      Conv2D(10, 3, activation=\"relu\"),\n",
        "                      MaxPool2D(),\n",
        "                      Flatten(),\n",
        "                      Dense(1, activation=\"sigmoid\")\n",
        "                      ])"
      ],
      "execution_count": null,
      "outputs": []
    },
    {
      "cell_type": "code",
      "metadata": {
        "id": "5CgfwuJ4d192"
      },
      "source": [
        "model_3.compile(loss=\"binary_crossentropy\",\n",
        "                optimizer = Adam(),\n",
        "                metrics=[\"accuracy\"])"
      ],
      "execution_count": null,
      "outputs": []
    },
    {
      "cell_type": "code",
      "metadata": {
        "colab": {
          "base_uri": "https://localhost:8080/"
        },
        "id": "F1-z6G3WeHGc",
        "outputId": "3e2a412b-db61-4829-e9b9-06cfc1f5e5af"
      },
      "source": [
        "train_data_augmented = train_datagen_augmented.flow_from_directory(directory=train_dir,\n",
        "                                               batch_size=32,\n",
        "                                               target_size=(224,224),\n",
        "                                               class_mode=\"binary\",\n",
        "                                               seed=42)"
      ],
      "execution_count": null,
      "outputs": [
        {
          "output_type": "stream",
          "text": [
            "Found 1600 images belonging to 2 classes.\n"
          ],
          "name": "stdout"
        }
      ]
    },
    {
      "cell_type": "code",
      "metadata": {
        "colab": {
          "base_uri": "https://localhost:8080/"
        },
        "id": "oWXVVVFTd72M",
        "outputId": "97706627-39b4-4b1e-f311-f2a1a3665a6c"
      },
      "source": [
        "history_3 = model_3.fit(train_data_augmented,\n",
        "                        epochs=5,\n",
        "                        steps_per_epoch=len(train_data_augmented),\n",
        "                        validation_data=valid_data,\n",
        "                        validation_steps=len(valid_data))"
      ],
      "execution_count": null,
      "outputs": [
        {
          "output_type": "stream",
          "text": [
            "Epoch 1/5\n",
            "50/50 [==============================] - 30s 598ms/step - loss: 0.6794 - accuracy: 0.5616 - val_loss: 0.5410 - val_accuracy: 0.7400\n",
            "Epoch 2/5\n",
            "50/50 [==============================] - 29s 591ms/step - loss: 0.5932 - accuracy: 0.6809 - val_loss: 0.4561 - val_accuracy: 0.7925\n",
            "Epoch 3/5\n",
            "50/50 [==============================] - 29s 596ms/step - loss: 0.5198 - accuracy: 0.7337 - val_loss: 0.4572 - val_accuracy: 0.7900\n",
            "Epoch 4/5\n",
            "50/50 [==============================] - 29s 593ms/step - loss: 0.4957 - accuracy: 0.7655 - val_loss: 0.4959 - val_accuracy: 0.7550\n",
            "Epoch 5/5\n",
            "50/50 [==============================] - 29s 595ms/step - loss: 0.4729 - accuracy: 0.7820 - val_loss: 0.4345 - val_accuracy: 0.8100\n"
          ],
          "name": "stdout"
        }
      ]
    },
    {
      "cell_type": "code",
      "metadata": {
        "colab": {
          "base_uri": "https://localhost:8080/",
          "height": 573
        },
        "id": "aUtNzCAEeQsq",
        "outputId": "0091c64a-e38f-4ee6-bc52-253ec3fb871e"
      },
      "source": [
        "plot_loss_curves(history_3)"
      ],
      "execution_count": null,
      "outputs": [
        {
          "output_type": "display_data",
          "data": {
            "image/png": "[encoded data removed]",
            "text/plain": [
              "<Figure size 432x288 with 1 Axes>"
            ]
          },
          "metadata": {
            "tags": [],
            "needs_background": "light"
          }
        },
        {
          "output_type": "display_data",
          "data": {
            "image/png": "[encoded data removed]",
            "text/plain": [
              "<Figure size 432x288 with 1 Axes>"
            ]
          },
          "metadata": {
            "tags": [],
            "needs_background": "light"
          }
        }
      ]
    }
  ]
}
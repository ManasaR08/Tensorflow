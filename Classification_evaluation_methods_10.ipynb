{
  "nbformat": 4,
  "nbformat_minor": 0,
  "metadata": {
    "colab": {
      "name": "Classification_evaluation_methods_10.ipynb",
      "provenance": [],
      "authorship_tag": "ABX9TyMGBoOi+kK8pCUdhd1W6vY1",
      "include_colab_link": true
    },
    "kernelspec": {
      "name": "python3",
      "display_name": "Python 3"
    },
    "language_info": {
      "name": "python"
    }
  },
  "cells": [
    {
      "cell_type": "markdown",
      "metadata": {
        "id": "view-in-github",
        "colab_type": "text"
      },
      "source": [
        "<a href=\"https://colab.research.google.com/github/ManasaR08/Tensorflow/blob/main/Classification_evaluation_methods_10.ipynb\" target=\"_parent\"><img src=\"https://colab.research.google.com/assets/colab-badge.svg\" alt=\"Open In Colab\"/></a>"
      ]
    },
    {
      "cell_type": "markdown",
      "metadata": {
        "id": "ahvMuWQ7Rvwk"
      },
      "source": [
        "# Evaluation Metrics\n",
        "\n",
        "## Accuracy\n",
        "Accuracy = (tp+tn)/(tp+tn+fp+fn)\n",
        "* Default metric for classification problems\n",
        "* Not recommended for imbalanced datasets\n",
        "\n",
        "## Precision\n",
        "Precision = tp/(tp+fp)\n",
        "* Higher precision leads to less false positives\n",
        "\n",
        "## Recall\n",
        "Recall = tp/(tp+fn)\n",
        "* Higher recall leads to less false negatives\n",
        "\n",
        "## F1 Score\n",
        "F1 score = 2*[(precision*recall)/precision+recall)]\n",
        "* Combination of precision and recall\n",
        "* Good overall metric for classification models\n",
        "\n",
        "## Confusion matrix\n",
        "* When comparing predictions to truth labels to see where the model gets most confused.\n",
        "* Is hard to use with very large number of classes"
      ]
    },
    {
      "cell_type": "code",
      "metadata": {
        "id": "smrW4lw0kb6t"
      },
      "source": [
        "import tensorflow as tf\n",
        "from sklearn.model_selection import train_test_split\n",
        "import matplotlib.pyplot as plt\n",
        "import pandas as pd\n",
        "import numpy as np"
      ],
      "execution_count": 8,
      "outputs": []
    },
    {
      "cell_type": "code",
      "metadata": {
        "id": "PYXFnEQxkWyj"
      },
      "source": [
        "from sklearn.datasets import make_circles\n",
        "\n",
        "n_samples = 1000\n",
        "\n",
        "X,y = make_circles(n_samples,\n",
        "                   noise = 0.03,\n",
        "                   random_state = 42)"
      ],
      "execution_count": 2,
      "outputs": []
    },
    {
      "cell_type": "code",
      "metadata": {
        "id": "UKX5syQYkZIH"
      },
      "source": [
        "X_train, X_test, y_train, y_test = train_test_split(X, y, test_size=0.2, random_state=42)"
      ],
      "execution_count": 3,
      "outputs": []
    },
    {
      "cell_type": "code",
      "metadata": {
        "colab": {
          "base_uri": "https://localhost:8080/"
        },
        "id": "8yEP2_c5RQ_Q",
        "outputId": "baf09a62-177e-492a-e0f2-b415ab573a67"
      },
      "source": [
        "tf.random.set_seed(42)\n",
        "\n",
        "model = tf.keras.Sequential([\n",
        "                             tf.keras.layers.Dense(4, activation=\"relu\"),\n",
        "                             tf.keras.layers.Dense(4, activation=\"relu\"),\n",
        "                             tf.keras.layers.Dense(1, activation=\"sigmoid\")\n",
        "])\n",
        "\n",
        "model.compile(loss = tf.keras.losses.BinaryCrossentropy(),\n",
        "              optimizer = tf.keras.optimizers.Adam(lr=0.01),\n",
        "              metrics = [\"accuracy\"])\n",
        "\n",
        "#creating a learning rate callback\n",
        "#lr_scheduler = tf.keras.callbacks.LearningRateScheduler(lambda epoch: 1e-4 * 10**(epoch/20))\n",
        "\n",
        "history = model.fit(X_train,\n",
        "                    y_train,\n",
        "                    epochs = 25)"
      ],
      "execution_count": 4,
      "outputs": [
        {
          "output_type": "stream",
          "text": [
            "/usr/local/lib/python3.7/dist-packages/tensorflow/python/keras/optimizer_v2/optimizer_v2.py:375: UserWarning: The `lr` argument is deprecated, use `learning_rate` instead.\n",
            "  \"The `lr` argument is deprecated, use `learning_rate` instead.\")\n"
          ],
          "name": "stderr"
        },
        {
          "output_type": "stream",
          "text": [
            "Epoch 1/25\n",
            "25/25 [==============================] - 1s 1ms/step - loss: 0.6824 - accuracy: 0.5638\n",
            "Epoch 2/25\n",
            "25/25 [==============================] - 0s 1ms/step - loss: 0.6750 - accuracy: 0.5650\n",
            "Epoch 3/25\n",
            "25/25 [==============================] - 0s 1ms/step - loss: 0.6680 - accuracy: 0.5763\n",
            "Epoch 4/25\n",
            "25/25 [==============================] - 0s 1ms/step - loss: 0.6635 - accuracy: 0.5725\n",
            "Epoch 5/25\n",
            "25/25 [==============================] - 0s 1ms/step - loss: 0.6592 - accuracy: 0.5713\n",
            "Epoch 6/25\n",
            "25/25 [==============================] - 0s 1ms/step - loss: 0.6475 - accuracy: 0.5938\n",
            "Epoch 7/25\n",
            "25/25 [==============================] - 0s 1ms/step - loss: 0.6312 - accuracy: 0.6275\n",
            "Epoch 8/25\n",
            "25/25 [==============================] - 0s 2ms/step - loss: 0.6093 - accuracy: 0.6963\n",
            "Epoch 9/25\n",
            "25/25 [==============================] - 0s 1ms/step - loss: 0.5844 - accuracy: 0.7212\n",
            "Epoch 10/25\n",
            "25/25 [==============================] - 0s 1ms/step - loss: 0.5442 - accuracy: 0.7675\n",
            "Epoch 11/25\n",
            "25/25 [==============================] - 0s 1ms/step - loss: 0.4915 - accuracy: 0.8025\n",
            "Epoch 12/25\n",
            "25/25 [==============================] - 0s 1ms/step - loss: 0.4314 - accuracy: 0.8687\n",
            "Epoch 13/25\n",
            "25/25 [==============================] - 0s 1ms/step - loss: 0.3878 - accuracy: 0.8975\n",
            "Epoch 14/25\n",
            "25/25 [==============================] - 0s 1ms/step - loss: 0.3405 - accuracy: 0.9162\n",
            "Epoch 15/25\n",
            "25/25 [==============================] - 0s 1ms/step - loss: 0.3026 - accuracy: 0.9413\n",
            "Epoch 16/25\n",
            "25/25 [==============================] - 0s 1ms/step - loss: 0.2626 - accuracy: 0.9675\n",
            "Epoch 17/25\n",
            "25/25 [==============================] - 0s 1ms/step - loss: 0.2367 - accuracy: 0.9588\n",
            "Epoch 18/25\n",
            "25/25 [==============================] - 0s 2ms/step - loss: 0.2114 - accuracy: 0.9762\n",
            "Epoch 19/25\n",
            "25/25 [==============================] - 0s 1ms/step - loss: 0.1970 - accuracy: 0.9737\n",
            "Epoch 20/25\n",
            "25/25 [==============================] - 0s 1ms/step - loss: 0.1779 - accuracy: 0.9750\n",
            "Epoch 21/25\n",
            "25/25 [==============================] - 0s 2ms/step - loss: 0.1919 - accuracy: 0.9575\n",
            "Epoch 22/25\n",
            "25/25 [==============================] - 0s 1ms/step - loss: 0.1555 - accuracy: 0.9775\n",
            "Epoch 23/25\n",
            "25/25 [==============================] - 0s 1ms/step - loss: 0.1479 - accuracy: 0.9775\n",
            "Epoch 24/25\n",
            "25/25 [==============================] - 0s 1ms/step - loss: 0.1300 - accuracy: 0.9850\n",
            "Epoch 25/25\n",
            "25/25 [==============================] - 0s 1ms/step - loss: 0.1445 - accuracy: 0.9638\n"
          ],
          "name": "stdout"
        }
      ]
    },
    {
      "cell_type": "markdown",
      "metadata": {
        "id": "6g7qHXH9kpcp"
      },
      "source": [
        "### Accuracy"
      ]
    },
    {
      "cell_type": "code",
      "metadata": {
        "colab": {
          "base_uri": "https://localhost:8080/"
        },
        "id": "vZXoEuVIklHn",
        "outputId": "d3c75d3d-8a7e-493e-d63d-5e57d6f8db45"
      },
      "source": [
        "loss, accuracy = model.evaluate(X_test, y_test)\n",
        "print(f\"Model loss: {loss:.2f}\")\n",
        "print(f\"Model accuracy: {(accuracy*100):.2f}%\")"
      ],
      "execution_count": 5,
      "outputs": [
        {
          "output_type": "stream",
          "text": [
            "7/7 [==============================] - 0s 2ms/step - loss: 0.1886 - accuracy: 0.9450\n",
            "Model loss: 0.19\n",
            "Model accuracy: 94.50%\n"
          ],
          "name": "stdout"
        }
      ]
    },
    {
      "cell_type": "markdown",
      "metadata": {
        "id": "LRtsY-DflYJY"
      },
      "source": [
        "### Confusion Matrix"
      ]
    },
    {
      "cell_type": "code",
      "metadata": {
        "colab": {
          "base_uri": "https://localhost:8080/"
        },
        "id": "FqRrAb7zk-ho",
        "outputId": "98bb8408-a823-4870-e327-3b2711a25f38"
      },
      "source": [
        "from sklearn.metrics import confusion_matrix\n",
        "\n",
        "y_pred = model.predict(X_test)\n",
        "y_pred = tf.round(y_pred)\n",
        "confusion_matrix(y_test, y_pred)"
      ],
      "execution_count": 6,
      "outputs": [
        {
          "output_type": "execute_result",
          "data": {
            "text/plain": [
              "array([[90, 10],\n",
              "       [ 1, 99]])"
            ]
          },
          "metadata": {
            "tags": []
          },
          "execution_count": 6
        }
      ]
    },
    {
      "cell_type": "code",
      "metadata": {
        "colab": {
          "base_uri": "https://localhost:8080/",
          "height": 574
        },
        "id": "ZjyxuU-Wmu_r",
        "outputId": "a3721721-7817-4dd5-b48a-aa1dbba1fd62"
      },
      "source": [
        "import itertools\n",
        "\n",
        "figsize = (10,10)\n",
        "\n",
        "cm = confusion_matrix(y_test, y_pred)\n",
        "cm_norm = cm.astype(\"float\")/cm.sum(axis = 1)[:, np.newaxis]\n",
        "n_classes = cm.shape[0]\n",
        "\n",
        "fig, ax = plt.subplots(figsize=figsize)\n",
        "\n",
        "cax = ax.matshow(cm, cmap=plt.cm.Blues)\n",
        "fig.colorbar(cax)\n",
        "\n",
        "classes = False\n",
        "if classes:\n",
        "  labels = classes\n",
        "else:\n",
        "  labels = np.arange(cm.shape[0])\n",
        "\n",
        "ax.set(title = \"Confusion Matrix\",\n",
        "       xlabel = \"Predicted label\",\n",
        "       ylabel = \"True label\",\n",
        "       xticks = np.arange(n_classes),\n",
        "       yticks = np.arange(n_classes),\n",
        "       xticklabels = labels,\n",
        "       yticklabels = labels)\n",
        "\n",
        "ax.xaxis.set_label_position(\"bottom\")\n",
        "ax.xaxis.tick_bottom()\n",
        "\n",
        "ax.yaxis.label.set_size(20)\n",
        "ax.xaxis.label.set_size(20)\n",
        "ax.title.set_size(20)\n",
        "\n",
        "threshold = (cm.max() + cm.min())/2\n",
        "\n",
        "for i,j in itertools.product(range(cm.shape[0]), range(cm.shape[1])):\n",
        "  plt.text(j, i, f\"{cm[i,j]} ({cm_norm[i,j]*100:.1f}%\",\n",
        "           horizontalalignment = \"center\",\n",
        "           color = \"white\" if cm[i,j]>threshold else \"black\",\n",
        "           size = 15)"
      ],
      "execution_count": 12,
      "outputs": [
        {
          "output_type": "display_data",
          "data": {
            "image/png": "[encoded data removed]",
            "text/plain": [
              "<Figure size 720x720 with 2 Axes>"
            ]
          },
          "metadata": {
            "tags": [],
            "needs_background": "light"
          }
        }
      ]
    },
    {
      "cell_type": "code",
      "metadata": {
        "id": "_DV6Ei7GJv3g"
      },
      "source": [
        "def pretty_confusion_matrix(y_test, y_pred):\n",
        "  figsize = (10,10)\n",
        "\n",
        "  cm = confusion_matrix(y_test, y_pred)\n",
        "  cm_norm = cm.astype(\"float\")/cm.sum(axis = 1)[:, np.newaxis]\n",
        "  n_classes = cm.shape[0]\n",
        "\n",
        "  fig, ax = plt.subplots(figsize=figsize)\n",
        "\n",
        "  cax = ax.matshow(cm, cmap=plt.cm.Blues)\n",
        "  fig.colorbar(cax)\n",
        "\n",
        "  classes = False\n",
        "  if classes:\n",
        "    labels = classes\n",
        "  else:\n",
        "    labels = np.arange(cm.shape[0])\n",
        "\n",
        "  ax.set(title = \"Confusion Matrix\",\n",
        "        xlabel = \"Predicted label\",\n",
        "        ylabel = \"True label\",\n",
        "        xticks = np.arange(n_classes),\n",
        "        yticks = np.arange(n_classes),\n",
        "        xticklabels = labels,\n",
        "        yticklabels = labels)\n",
        "\n",
        "  ax.xaxis.set_label_position(\"bottom\")\n",
        "  ax.xaxis.tick_bottom()\n",
        "\n",
        "  ax.yaxis.label.set_size(20)\n",
        "  ax.xaxis.label.set_size(20)\n",
        "  ax.title.set_size(20)\n",
        "\n",
        "  threshold = (cm.max() + cm.min())/2\n",
        "\n",
        "  for i,j in itertools.product(range(cm.shape[0]), range(cm.shape[1])):\n",
        "    plt.text(j, i, f\"{cm[i,j]} ({cm_norm[i,j]*100:.1f}%\",\n",
        "            horizontalalignment = \"center\",\n",
        "            color = \"white\" if cm[i,j]>threshold else \"black\",\n",
        "            size = 15)"
      ],
      "execution_count": 13,
      "outputs": []
    },
    {
      "cell_type": "code",
      "metadata": {
        "colab": {
          "base_uri": "https://localhost:8080/",
          "height": 574
        },
        "id": "GIZBhc7dLLj0",
        "outputId": "83b93078-d10d-4f1b-f4cd-6f66d1de2cac"
      },
      "source": [
        "pretty_confusion_matrix(y_test, y_pred)"
      ],
      "execution_count": 14,
      "outputs": [
        {
          "output_type": "display_data",
          "data": {
            "image/png": "[encoded data removed]",
            "text/plain": [
              "<Figure size 720x720 with 2 Axes>"
            ]
          },
          "metadata": {
            "tags": [],
            "needs_background": "light"
          }
        }
      ]
    }
  ]
}